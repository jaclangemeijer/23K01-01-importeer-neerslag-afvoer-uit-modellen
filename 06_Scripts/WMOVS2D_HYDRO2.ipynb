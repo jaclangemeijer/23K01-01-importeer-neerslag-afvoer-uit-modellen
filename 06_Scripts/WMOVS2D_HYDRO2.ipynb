{
 "cells": [
  {
   "cell_type": "code",
   "execution_count": null,
   "metadata": {},
   "outputs": [],
   "source": [
    "shape=stroomgebied.iloc[0]\n",
    "shape.plot()"
   ]
  },
  {
   "cell_type": "code",
   "execution_count": null,
   "metadata": {},
   "outputs": [],
   "source": [
    "type(shape)\n",
    "type(stroomgebied)"
   ]
  },
  {
   "cell_type": "code",
   "execution_count": null,
   "metadata": {},
   "outputs": [],
   "source": [
    "scenarios"
   ]
  },
  {
   "cell_type": "code",
   "execution_count": null,
   "metadata": {},
   "outputs": [],
   "source": [
    "gdf_laterals_joined"
   ]
  },
  {
   "cell_type": "markdown",
   "metadata": {},
   "source": [
    "*Notebook voor het omzetten van de met Wageningenmodellen en overstortschatter berekende afvoeren naar lateralen D_HYDRO.*"
   ]
  },
  {
   "cell_type": "code",
   "execution_count": 1,
   "metadata": {},
   "outputs": [
    {
     "name": "stderr",
     "output_type": "stream",
     "text": [
      "C:\\Users\\moorjo01\\AppData\\Local\\Temp\\ipykernel_35136\\3484300204.py:43: UserWarning: Column names longer than 10 characters will be truncated when saved to ESRI Shapefile.\n",
      "  gdf_missing = gdf_laterals_joined.loc[gdf_laterals_joined['index_right'].isna()].to_file(absolute_path + '/laterals_shapefile/unmatchedLaterals.shp')\n"
     ]
    }
   ],
   "source": [
    "import os\n",
    "import pandas as pd\n",
    "import geopandas as gpd\n",
    "import re\n",
    "import matplotlib.pyplot as plt\n",
    "import xml.etree.ElementTree as et \n",
    "\n",
    "#absolute_path = os.path.dirname(__file__)\n",
    "absolute_path = os.path.dirname(\"D:/DHydro/HMAM/NA_modellen/WMOVS2D_HYDRO/01 omzetting rr files/03_Data/laterals_shapefile\")\n",
    "INTEGRITY = False # TODO: Eigenlijk wil ik dit wel er in, maar er zijn drie overstorten die dubbel voorkomen. Dat moet beheerd worden om fouten te voorkomen.\n",
    "scenarios = [ # Turn on or off the scenarios that must be ran\n",
    "    'HIST',\n",
    "    'GHG120'\n",
    "    ]\n",
    "\n",
    "# Read and process data\n",
    "## Load data of lateral points and areas of Wageningen model, and assign Wagmod area code to laterals based on intersection.\n",
    "gdf_laterals = (\n",
    "    gpd.read_file(absolute_path + '/laterals_shapefile/' + 'laterals.shp')\n",
    "    .set_index('CODE', verify_integrity = True)\n",
    "    [['Opp_hactar','X','Y','geometry']]\n",
    ")\n",
    "gdf_laterals['type'] = 'laterals'\n",
    "\n",
    "gdf_wagmod = (\n",
    "    gpd.read_file(absolute_path + '/wageningenmodel_shapefile/' + 'NAvakken.shp')\n",
    "    [['GAFIDEN','geometry']]\n",
    ")\n",
    "\n",
    "gdf_overstorten = gpd.read_file(\n",
    "    absolute_path + '/overstortpunten_shapefile/'+'overstortlocaties.shp'\n",
    "    ).set_index('RIODAT_ZRO', \n",
    "    verify_integrity=INTEGRITY \n",
    "    )[['geometry']]\n",
    "gdf_overstorten['type'] = 'overstort'\n",
    "\n",
    "# Create the shapefile containing all locations (laterals and overstorten) that can be read by the following script. This is a component of the final output.\n",
    "pd.concat([gdf_laterals,gdf_overstorten], \n",
    "    verify_integrity=INTEGRITY \n",
    "    )[['geometry','type']].to_file(os.path.abspath(os.path.join(absolute_path, '../07_Rapportage/shp_afvoer.shp')))\n",
    "    \n",
    "gdf_laterals_joined = gpd.sjoin(gdf_laterals, gdf_wagmod, how='left')\n",
    "gdf_missing = gdf_laterals_joined.loc[gdf_laterals_joined['index_right'].isna()].to_file(absolute_path + '/laterals_shapefile/unmatchedLaterals.shp')\n",
    "#TODO: locaties die niet binnen een Wagmod gebied vallen moeten op e.o.a. manier gekoppeld worden aan Wagmod data. \n",
    "# Mijn voorkeur zou zijn een koppeltabel voor die 100 locaties.\n",
    "\n"
   ]
  },
  {
   "cell_type": "code",
   "execution_count": 2,
   "metadata": {},
   "outputs": [],
   "source": [
    "for scenario in scenarios:\n",
    "    \n",
    "    ## Read Wageningen model output (discharges) per region, and multiply by the area belonging to each lateral\n",
    "    wagmodFiles = [absolute_path + '/wageningenmodel_output/' + scenario+ '/' + region for region in os.listdir(absolute_path + '/wageningenmodel_output/' + scenario)]\n",
    "    ls_wagmodoutput = []\n",
    "    \n",
    "    for region in wagmodFiles:\n",
    "        metadata_region = pd.read_csv(region, nrows=1, skiprows=[0,2], header=None)[0][0]\n",
    "        model = re.search('model:(.*) (?:van|met winterbui)', metadata_region).group(1)\n",
    "                \n",
    "        df_region = pd.read_csv(\n",
    "                region, \n",
    "                header=4, \n",
    "                delim_whitespace=True, \n",
    "                usecols=['-I-','-QC-'],\n",
    "                )\n",
    "\n",
    "        df_region=df_region.set_index(\n",
    "                pd.to_datetime(df_region['-I-'],\n",
    "                origin=pd.Timestamp('2010-11-08 23:00:00'),\n",
    "                unit='h')\n",
    "            ).drop(labels=['-I-'], axis='columns').rename(columns={'-QC-':model})\n",
    "        \n",
    "        ls_wagmodoutput.append(df_region)\n",
    "\n"
   ]
  },
  {
   "cell_type": "code",
   "execution_count": 3,
   "metadata": {},
   "outputs": [],
   "source": [
    "    # Combine data from all Wageningen models, transpose to later multiply with the areas, and finally multiply by 0.001 to adjust for units.\n",
    "    #df_wagmodoutput = pd.concat(ls_wagmodoutput, axis=1, verify_integrity=True).T * 0.001\n",
    "    df_wagmodoutput = pd.concat(ls_wagmodoutput, axis=1, verify_integrity=True).T * 10 / 3600\n",
    "\n",
    "    \n",
    "    for i in range(len(df_wagmodoutput.index)):\n",
    "        ID =df_wagmodoutput.index[i].split(' ')[0]\n",
    "        df_wagmodoutput.loc[df_wagmodoutput.index[i],'GAFIDEN'] = ID\n",
    "    \n",
    "    \n",
    "    ### Multiplication\n",
    "    gdf_laterals_joined['Latid'] = gdf_laterals_joined.index\n",
    "    #gdf_laterals_joined.set_index('Latid')\n",
    "    #output_laterals = gdf_laterals_joined.reset_index().merge(df_wagmodoutput, on='GAFIDEN', how='left').set_index(gdf_laterals_joined.index.names)\n",
    "    #output_laterals = gdf_laterals_joined.join(df_wagmodoutput, on='GAFIDEN', how='left',lsuffix='left',rsuffix='right')\n",
    "    output_laterals = gdf_laterals_joined.merge(df_wagmodoutput, on='GAFIDEN', how='left')\n",
    "    #output_laterals = gdf_laterals_joined.merge(df_wagmodoutput, on='GAFIDEN', how='left',lsuffix='left',rsuffix='right')\n",
    "    #output_laterals.set_index('Latid')\n",
    "    output_laterals.set_index('Latid', inplace=True)"
   ]
  },
  {
   "cell_type": "code",
   "execution_count": null,
   "metadata": {},
   "outputs": [],
   "source": [
    " output_laterals"
   ]
  },
  {
   "cell_type": "code",
   "execution_count": 4,
   "metadata": {},
   "outputs": [],
   "source": [
    "    output_laterals2 = output_laterals.iloc[:,8:].multiply(output_laterals['Opp_hactar'],axis='index').T\n",
    "    #output_laterals = output_laterals.iloc[:,8:].multiply(output_laterals['Opp_hactar'],axis='index')\n",
    "    #output_laterals = output_laterals.iloc[:,8:].multiply(output_laterals['Opp_hactar'],axis='Latid').T\n",
    "\n",
    "    ## Read overstort schatter output (xml files) \n",
    "    NS = '{http://www.wldelft.nl/fews/PI}' # xml default namespace\n",
    "\n",
    "    #overstortFiles = os.listdir(absolute_path + '/overstortschatter_output/')\n",
    "    overstortFiles = [absolute_path + '/overstortschatter_output/' + scenario+ '/' + region for region in os.listdir(absolute_path + '/overstortschatter_output/' + scenario)]\n",
    "    ls_multipleyears = []\n",
    "\n",
    "    for overstort in overstortFiles:\n",
    "        xtree = et.parse(overstort)\n",
    "        xroot = xtree.getroot()\n",
    "        ls_overstort = []\n",
    "\n",
    "       "
   ]
  },
  {
   "cell_type": "code",
   "execution_count": 5,
   "metadata": {},
   "outputs": [],
   "source": [
    " for i in xroot.iter(NS+'series'):\n",
    "            locId = i.find('./'+NS+'header/'+NS+'locationId').text\n",
    "            events = i.findall('./'+NS+'event')\n",
    "            ls=[item.attrib for item in events]\n",
    "            df=pd.DataFrame(ls).head()\n",
    "    \n"
   ]
  },
  {
   "cell_type": "code",
   "execution_count": null,
   "metadata": {},
   "outputs": [],
   "source": [
    "        df_resetIndex=(\n",
    "                df.set_index(\n",
    "                pd.DatetimeIndex(pd.to_datetime(df['date']+' '+df['time'], format=\"%Y-%m-%d %H:%M:%S\")),\n",
    "                verify_integrity=True\n",
    "                ).drop(labels=['date','time'], axis='columns')\n",
    "                .astype('float')\n",
    "                .rename({'value':locId}, axis='columns')\n",
    "            )\n",
    "            ls_overstort.append(df_resetIndex)\n",
    "        pd_oneyear=pd.concat(ls_overstort, axis='columns',verify_integrity=True)\n",
    "        ls_multipleyears.append(pd_oneyear)\n",
    "    df_overstorten = pd.concat(ls_multipleyears, axis='index', verify_integrity=True) / 3600\n",
    "\n",
    "    df_combined = pd.concat([output_laterals2,df_overstorten], axis='columns').fillna(value=0)\n",
    "    df_combined.to_csv(os.path.abspath(os.path.join(absolute_path, '../07_Rapportage/'+'afvoer_' + scenario +'.csv')), sep = ';')\n",
    "   \n",
    "    ## RWZI output # Left out for now, because there are no relevant RWZIs in the pilot area\n",
    "\n",
    "\n",
    "    # Format output\n",
    "\n"
   ]
  },
  {
   "cell_type": "code",
   "execution_count": 11,
   "metadata": {},
   "outputs": [
    {
     "data": {
      "text/html": [
       "<div>\n",
       "<style scoped>\n",
       "    .dataframe tbody tr th:only-of-type {\n",
       "        vertical-align: middle;\n",
       "    }\n",
       "\n",
       "    .dataframe tbody tr th {\n",
       "        vertical-align: top;\n",
       "    }\n",
       "\n",
       "    .dataframe thead th {\n",
       "        text-align: right;\n",
       "    }\n",
       "</style>\n",
       "<table border=\"1\" class=\"dataframe\">\n",
       "  <thead>\n",
       "    <tr style=\"text-align: right;\">\n",
       "      <th></th>\n",
       "      <th>date</th>\n",
       "      <th>time</th>\n",
       "      <th>value</th>\n",
       "    </tr>\n",
       "  </thead>\n",
       "  <tbody>\n",
       "    <tr>\n",
       "      <th>0</th>\n",
       "      <td>2010-01-16</td>\n",
       "      <td>21:00:00</td>\n",
       "      <td>38.0</td>\n",
       "    </tr>\n",
       "    <tr>\n",
       "      <th>1</th>\n",
       "      <td>2010-01-16</td>\n",
       "      <td>23:00:00</td>\n",
       "      <td>7.0</td>\n",
       "    </tr>\n",
       "    <tr>\n",
       "      <th>2</th>\n",
       "      <td>2010-01-30</td>\n",
       "      <td>22:00:00</td>\n",
       "      <td>11.0</td>\n",
       "    </tr>\n",
       "    <tr>\n",
       "      <th>3</th>\n",
       "      <td>2010-01-30</td>\n",
       "      <td>23:00:00</td>\n",
       "      <td>9.0</td>\n",
       "    </tr>\n",
       "    <tr>\n",
       "      <th>4</th>\n",
       "      <td>2010-02-02</td>\n",
       "      <td>20:00:00</td>\n",
       "      <td>19.0</td>\n",
       "    </tr>\n",
       "  </tbody>\n",
       "</table>\n",
       "</div>"
      ],
      "text/plain": [
       "         date      time value\n",
       "0  2010-01-16  21:00:00  38.0\n",
       "1  2010-01-16  23:00:00   7.0\n",
       "2  2010-01-30  22:00:00  11.0\n",
       "3  2010-01-30  23:00:00   9.0\n",
       "4  2010-02-02  20:00:00  19.0"
      ]
     },
     "execution_count": 11,
     "metadata": {},
     "output_type": "execute_result"
    }
   ],
   "source": [
    "df"
   ]
  },
  {
   "cell_type": "code",
   "execution_count": null,
   "metadata": {},
   "outputs": [],
   "source": [
    "df_resetIndex"
   ]
  },
  {
   "cell_type": "code",
   "execution_count": null,
   "metadata": {},
   "outputs": [],
   "source": [
    "df_overstorten"
   ]
  }
 ],
 "metadata": {
  "kernelspec": {
   "display_name": "LateralHisOmzetten",
   "language": "python",
   "name": "lateralhisomzetten"
  },
  "language_info": {
   "codemirror_mode": {
    "name": "ipython",
    "version": 3
   },
   "file_extension": ".py",
   "mimetype": "text/x-python",
   "name": "python",
   "nbconvert_exporter": "python",
   "pygments_lexer": "ipython3",
   "version": "3.9.13"
  },
  "vscode": {
   "interpreter": {
    "hash": "699fe80cd9d68fa7f4bf64b62da4bd283e8b81c02189d568e4b3951ec7be1ea2"
   }
  }
 },
 "nbformat": 4,
 "nbformat_minor": 2
}
