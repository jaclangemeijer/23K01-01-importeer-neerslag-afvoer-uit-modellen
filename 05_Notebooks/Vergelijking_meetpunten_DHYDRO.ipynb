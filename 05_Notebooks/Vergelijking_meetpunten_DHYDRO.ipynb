{
 "cells": [
  {
   "cell_type": "code",
   "execution_count": null,
   "metadata": {},
   "outputs": [],
   "source": [
    "#packages inlezen\n",
    "from netCDF4 import Dataset, chartostring\n",
    "import pandas as pd\n",
    "import geopandas as gpd\n",
    "import numpy as np\n",
    "import matplotlib.pyplot as plt\n",
    "import os, sys, time\n",
    "import hkvsobekpy as hkv\n",
    "import numpy as np\n",
    "import plotly.io as pio\n",
    "import plotly.express as px\n",
    "import plotly.subplots as sp\n",
    "from plotly.subplots import make_subplots\n",
    "import plotly.graph_objects as go\n",
    "import datetime\n",
    "from tqdm import tqdm\n",
    "%matplotlib inline"
   ]
  },
  {
   "cell_type": "code",
   "execution_count": null,
   "metadata": {},
   "outputs": [],
   "source": [
    "#paden opgeven naar modellen\n",
    "#alleen de modelmapnaam aanpassen\n",
    "\n",
    "#DHydro_Model_his= os.path.abspath('../03_Model/06_1D2DmodelGoorloop.dsproj_data/FlowFM/output/FlowFM_his.nc') #Goorloop\n",
    "#DHydro_Model_map = os.path.abspath('../03_Model/06_1D2DmodelGoorloop.dsproj_data/FlowFM/output/FlowFM_map.nc') #Goorloop\n",
    "DHydro_Model_his= os.path.abspath('../03_Model/Hwet2Dtestrun2.dsproj_data/FlowFM/output/FlowFM_his.nc') #Hertogswetering\n",
    "DHydro_Model_map = os.path.abspath('../03_Model/Hwet2Dtestrun2.dsproj_data/FlowFM/output/FlowFM_map.nc') #Hertogswetering\n",
    "\n",
    "opslaan = True"
   ]
  },
  {
   "cell_type": "code",
   "execution_count": null,
   "metadata": {},
   "outputs": [],
   "source": [
    "#his en map bestand uit D-Hydro uitlezen\n",
    "his = Dataset(DHydro_Model_his)\n",
    "network = Dataset(DHydro_Model_map)"
   ]
  },
  {
   "cell_type": "markdown",
   "metadata": {},
   "source": [
    "## Data uitlezen uit D-Hydro voor waterstanden op observatiepunten"
   ]
  },
  {
   "cell_type": "code",
   "execution_count": null,
   "metadata": {},
   "outputs": [],
   "source": [
    "#D-Hydro 1D\n",
    "node_id = chartostring(network['mesh1d_node_id'][:])\n",
    "node_id = [nodeid.rstrip() for nodeid in node_id]"
   ]
  },
  {
   "cell_type": "code",
   "execution_count": null,
   "metadata": {},
   "outputs": [],
   "source": [
    "\n",
    "ref_time = ' '.join(his['time'].units.split()[2:4])\n",
    "print('reference time D-Hydro:',ref_time)\n",
    "tijd = his['time'][:]\n",
    "\n",
    "ref = datetime.datetime.strptime(ref_time, \"%Y-%m-%d %H:%M:%S\")\n",
    "\n",
    "index_his = [ref + datetime.timedelta(seconds=each) for each in tijd]\n",
    "\n",
    "locaties = chartostring(his['station_id'][:])\n",
    "locaties = [str(locatie).rstrip() for locatie in locaties]\n",
    "\n",
    "#waterstanden measurement stations\n",
    "data = his['waterlevel'][:]\n",
    "D_meas_WL = pd.DataFrame(data= data, index=index_his, columns = locaties )"
   ]
  },
  {
   "cell_type": "code",
   "execution_count": null,
   "metadata": {
    "scrolled": false,
    "tags": []
   },
   "outputs": [],
   "source": [
    "#typ hier plotly om interactieve grafieken te genereren, anders worden er statische afbeeldingen genereert via matplotlib (makkelijker te exporteren)\n",
    "plot = 'plotly' \n",
    "\n",
    "#waterstanden measurement stations\n",
    "for locatie in locaties:\n",
    "    if plot == 'plotly':\n",
    "        fig = px.line(D_meas_WL, x = D_meas_WL.index,y = [D_meas_WL.loc[:,locatie]], title='Waterstand bij '+locatie,\n",
    "                      labels={\"value\": \"Waterstand [m NAP]\",  \"index\": \"Datum\"},\n",
    "                     template='plotly') #template aannpassen, opties zijn:     \n",
    "        #['ggplot2', 'seaborn', 'simple_white', 'plotly',\n",
    "        #'plotly_white', 'plotly_dark', 'presentation', 'xgridoff',\n",
    "        #'ygridoff', 'gridon', 'none']\n",
    "\n",
    "        #verschillende opties voor aan en uitzetten van hoverinfo en opmaak ervan\n",
    "        fig.update_traces(mode=\"lines\", hovertemplate=None)\n",
    "        fig.update_layout(hovermode=\"x unified\")\n",
    "        \n",
    "        if opslaan ==True:\n",
    "            pio.write_image(fig,'../02_Validatie/Hertogswetering/Meetpunten/svg/meetpunt_'+ locatie +'.svg', engine='orca')\n",
    "            fig.write_html('../02_Validatie/Hertogswetering/Meetpunten/html/meetpunt_'+ locatie +'.html', include_plotlyjs=\"cdn\", full_html=False)\n",
    "        \n",
    "        fig.show()\n",
    "    else:\n",
    "        fig,ax = plt.subplots(figsize=(20, 10))\n",
    "        ax.plot(D_meas_WL.index,D_meas_WL.loc[:,locatie])\n",
    "        ax.grid()\n",
    "        ax.tick_params(labelsize=16)\n",
    "        ax.legend(['D-Hydro'], fontsize = 16)\n",
    "        ax.set_xlabel('Datum',fontsize=16)\n",
    "        ax.set_ylabel('waterstand [m NAP]',fontsize=16)\n",
    "        ax.set_title(locatie,fontsize=16)"
   ]
  },
  {
   "cell_type": "code",
   "execution_count": null,
   "metadata": {},
   "outputs": [],
   "source": []
  }
 ],
 "metadata": {
  "kernelspec": {
   "display_name": "Python 3 (ipykernel)",
   "language": "python",
   "name": "python3"
  },
  "language_info": {
   "codemirror_mode": {
    "name": "ipython",
    "version": 3
   },
   "file_extension": ".py",
   "mimetype": "text/x-python",
   "name": "python",
   "nbconvert_exporter": "python",
   "pygments_lexer": "ipython3",
   "version": "3.9.12"
  }
 },
 "nbformat": 4,
 "nbformat_minor": 4
}
