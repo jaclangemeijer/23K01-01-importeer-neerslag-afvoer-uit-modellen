{
 "cells": [
  {
   "cell_type": "markdown",
   "id": "cfeba8c4",
   "metadata": {},
   "source": [
    "# Example of generating a 1D2D model - an overview of functionalities\n",
    "\n",
    "This notebook gives an overview of the functionalities of the D-HyDAMO module, part of the delft3dfmpy python package.\n",
    "\n",
    "For install instructions see: https://github.com/openearth/delft3dfmpy#installation\n",
    "\n",
    "Furthermore, it should be noted that recently added features were tested with dummy-data, which is included with this package. The generated model is, therefore, not necessarily a correct hydraulic representation, as some dummy structures were added and existing structures moved and/or adjusted. The purpose of this notebook is solely to illustrate the usage of the dhydamo module.\n",
    "\n",
    "This notebook corresponds to a major update of delt3dfmpy and is, therefore, not compatible with older versions. The main differences are:\n",
    "- input data should now be according the HyDAMO DAMO2.2 format instead of HyDAMO v12;\n",
    "- input data is no longer in GML-format but is contained in a geopackage (GPKG);\n",
    "- schematisation of paved nodes has changed. Within sewer areas, a paved node is created for every overflow location (which represents the corresponding fraction of the sewer area). Outside sewer areas, a paved node is created for the paved fraction of a catchment, which does NOT intersect with a sewage area;\n",
    "- where the example catchment for older versions was the Moergestelsbroek, now the example model is based on a part of the Oostrumsche beek.\n"
   ]
  },
  {
   "cell_type": "markdown",
   "id": "7e2fb163-c588-48c5-a5c5-8949e010d029",
   "metadata": {},
   "source": [
    "## Initialize"
   ]
  },
  {
   "cell_type": "markdown",
   "id": "de666bad-ecb3-426f-bff5-6077d4e8b7ec",
   "metadata": {},
   "source": [
    "Load Python libraries"
   ]
  },
  {
   "cell_type": "code",
   "execution_count": 1,
   "id": "303bd269-8d1c-4e65-ad84-cce843c5dced",
   "metadata": {},
   "outputs": [],
   "source": [
    "# Basis\n",
    "import os\n",
    "import sys\n",
    "import shutil\n",
    "from platform import python_version\n",
    "import numpy as np\n",
    "sys.path.append('../')      \n",
    "# Importing relevant classes from delft3dfmpy\n",
    "from delft3dfmpy import DFlowFMModel, HyDAMO, Rectangular, DFlowFMWriter\n",
    "from delft3dfmpy import DFlowRRModel, DFlowRRWriter\n",
    "from delft3dfmpy.datamodels.common import ExtendedGeoDataFrame\n",
    "\n",
    "# shapefiles IO\n",
    "import geopandas as gpd\n",
    "\n",
    "# Import csv\n",
    "import pandas as pd\n",
    "\n",
    "# Geometries\n",
    "from shapely.geometry import Polygon, LineString, Point\n",
    "\n",
    "# Plotting\n",
    "import matplotlib.pyplot as plt\n",
    "from matplotlib.collections import LineCollection\n",
    "\n",
    "# For reading SOBEK results as boundary conditions\n",
    "# hkvsobekpy requires the modules fire and tqdm, install these (conda install fire tqdm)\n",
    "import hkvsobekpy\n",
    "\n",
    "%matplotlib inline"
   ]
  },
  {
   "cell_type": "markdown",
   "id": "113d08ae-c1fd-4e0d-ab85-703925ae44ec",
   "metadata": {},
   "source": [
    "Change these paths to access the data and to use all functionalities. dflowfm_path is needed to refine the 2D-grid. It is not included in the D-Hydro installation. In the next major update, we will use meshkernel functionality and this executable will no longer be needed."
   ]
  },
  {
   "cell_type": "code",
   "execution_count": 5,
   "id": "b26ac6f9-6260-4e3b-a798-32b624b2c86b",
   "metadata": {},
   "outputs": [],
   "source": [
    "# path to the package containing the dummy-data\n",
    "data_path = os.path.abspath('../00_Data')\n",
    "\n",
    "# path to dflowfm. Optional; needed for 2d-mesh refining\n",
    "# dflowfm_path = r'D:\\dflowfm-x64-1.2.105.67228M'\n",
    "dflowfm_path = os.path.abspath('../08_Software/dflowfm-x64-1.2.105.67228M')\n",
    "\n",
    "# path to write the models\n",
    "output_path = os.path.abspath('../03_Model/Raam_HH_lateralsV2')\n",
    "\n",
    "# path to DIMR for a correct run.bat file\n",
    "dimr_path = r\"C:\\Program Files\\Deltares\\D-HYDRO Suite 2023.01 1D2D\\plugins\\DeltaShell.Dimr\\kernels\\x64\\dimr\\scripts\\run_dimr.bat\""
   ]
  },
  {
   "cell_type": "code",
   "execution_count": 6,
   "id": "e7594e39-a1c3-4d48-bc93-980375a2eac2",
   "metadata": {},
   "outputs": [],
   "source": [
    "# path to dll's that are needed to run gridgeom.dll, which is needed for 2D-mesh generation. Setting the path is only needed for Python >= version 3.8\n",
    "if float('.'.join(python_version().split('.')[0:2])) >= 3.8: \n",
    "    dll_path = r'C:\\Program Files\\Deltares\\D-HYDRO Suite 2023.01 1D2D\\plugins\\DeltaShell.Dimr\\kernels\\x64\\share\\bin'"
   ]
  },
  {
   "cell_type": "markdown",
   "id": "1b33fca6-a553-4caa-b05f-3948d4d0ca78",
   "metadata": {},
   "source": [
    "## Read HYDAMO"
   ]
  },
  {
   "cell_type": "markdown",
   "id": "ca1ce25f",
   "metadata": {},
   "source": [
    "Along with the HyDAMO DAMO2.2 format, the format of input data changed from GML to GPKG. \n",
    "In the following, we initialize a hydamo-instance and show the content of the GPKG-file containing all HyDAMO DAMO2.2 data."
   ]
  },
  {
   "cell_type": "code",
   "execution_count": 7,
   "id": "8bd0540a",
   "metadata": {},
   "outputs": [
    {
     "data": {
      "text/plain": [
       "'d:\\\\werkplan 2023\\\\kennisagenda\\\\23K01_dhydromodellering\\\\01-importeer-neerslag-afvoer-uit-modellen\\\\00_Data'"
      ]
     },
     "execution_count": 7,
     "metadata": {},
     "output_type": "execute_result"
    }
   ],
   "source": [
    "data_path"
   ]
  },
  {
   "cell_type": "code",
   "execution_count": 8,
   "id": "e39dfc6e-46ff-4070-a3e9-a6f9550a15e0",
   "metadata": {},
   "outputs": [
    {
     "name": "stdout",
     "output_type": "stream",
     "text": [
      "Content of gpkg-file d:\\werkplan 2023\\kennisagenda\\23K01_dhydromodellering\\01-importeer-neerslag-afvoer-uit-modellen\\00_Data\\gpkg/AM.gpkg, containing 14 layers:\n",
      "\tINDEX\t|\tNAME                        \t|\tGEOM_TYPE      \t|\t NFEATURES\t|\t   NFIELDS\n",
      "\t    0\t|\tregelmiddel                   \t|\tPoint       \t|\t        57\t|\t         8\n",
      "\t    1\t|\tstuw                          \t|\t3D Point    \t|\t        57\t|\t         5\n",
      "\t    2\t|\thydroobject                   \t|\tLine String \t|\t       261\t|\t         4\n",
      "\t    3\t|\tgemaal                        \t|\tPoint       \t|\t         2\t|\t         3\n",
      "\t    4\t|\tprofiellijn                   \t|\tLine String \t|\t       526\t|\t         3\n",
      "\t    5\t|\tprofielpunt                   \t|\t3D Point    \t|\t      7777\t|\t         5\n",
      "\t    6\t|\tbrug                          \t|\tPoint       \t|\t        11\t|\t         8\n",
      "\t    7\t|\tduikersifonhevel              \t|\tLine String \t|\t       375\t|\t        13\n",
      "\t    8\t|\tlateraleknoop                 \t|\tPoint       \t|\t       179\t|\t         4\n",
      "\t    9\t|\tkunstwerkopening              \t|\tNone        \t|\t        57\t|\t         9\n",
      "\t   10\t|\tpomp                          \t|\tNone        \t|\t         2\t|\t         5\n",
      "\t   11\t|\tsturing                       \t|\tNone        \t|\t         2\t|\t         7\n",
      "\t   12\t|\tprofielgroep                  \t|\tNone        \t|\t       526\t|\t         4\n",
      "\t   13\t|\truwheidprofiel                \t|\tNone        \t|\t      7777\t|\t         6\n"
     ]
    }
   ],
   "source": [
    "gpkg_file = os.path.join(data_path,'gpkg/AM.gpkg')\n",
    "hydamo = HyDAMO(extent_file=os.path.join(data_path,'gis/HoogeRaam.shp'))\n",
    "hydamo.branches.show_gpkg(gpkg_file)"
   ]
  },
  {
   "cell_type": "markdown",
   "id": "b369dc2e-5136-4612-bde8-669e7937da1c",
   "metadata": {},
   "source": [
    "In the code section below the content of the GPKG is added. For more info on how to import its different elements, see: https://hkvconfluence.atlassian.net/wiki/spaces/DHYD/overview\n",
    "\n",
    "The general steps for importing a HyDAMO object are:\n",
    "- Read the objects from the GPKG file.\n",
    "- Snap the structures to the branches\n",
    "- Remove non-snapped structures, perhaps because the distance to the nearest branch was too large.\n",
    "\n",
    "A few remarks:\n",
    "- The converter requires a number column names with a specfic name. If the name in the GPKG layer does not match this name, it can be converted with the 'column_mapping'\n",
    "- The branch or structure data can also be loaded from shapefiles. Note that shapefiles have a max column length of 10 characters, so probably a lot of column_mapping is necessary."
   ]
  },
  {
   "cell_type": "code",
   "execution_count": 9,
   "id": "a969deab-45f1-402d-8c08-65ee74bd2517",
   "metadata": {
    "scrolled": true
   },
   "outputs": [],
   "source": [
    "# branches\n",
    "hydamo.branches.read_gpkg_layer(gpkg_file, layer_name='HydroObject', index_col='code')\n",
    "\n",
    "# these branches are not connected to the main branch ('W_242466_0','W_242465_0','W_1386_0', 'W_2352_0') or have no profile (W_1698_0) - drop them.\n",
    "# branches_to_drop = ['W_242466_0','W_242465_0','W_1386_0', 'W_1698_0', 'W_2352_0']\n",
    "# hydamo.branches.drop(branches_to_drop, axis=0, inplace=True)\n",
    "\n",
    "# profile points. Profiles that are associated with structures are connected through profile_line and profile_group objects.\n",
    "hydamo.profile.read_gpkg_layer(gpkg_file, layer_name='ProfielPunt', groupby_column = 'profiellijnid', order_column='codevolgnummer') \n",
    "hydamo.profile_roughness.read_gpkg_layer(gpkg_file, layer_name='RuwheidProfiel') \n",
    "hydamo.profile.snap_to_branch(hydamo.branches, snap_method='intersecting')\n",
    "hydamo.profile.dropna(axis=0, inplace=True, subset=['branch_offset'])\n",
    "hydamo.profile_line.read_gpkg_layer(gpkg_file, layer_name='profiellijn', id_col='globalid')\n",
    "hydamo.profile_group.read_gpkg_layer(gpkg_file, layer_name='profielgroep')\n",
    "#hydamo.profile.drop('code', axis=1, inplace=True)\n",
    "#hydamo.profile['code'] = hydamo.profile['profiellijnid']\n",
    "\n",
    "# parametrised profile\n",
    "#hydamo.param_profile.read_gpkg_layer(gpkg_file, layer_name='hydroobject_normgp')\n",
    "#hydamo.param_profile_values.read_gpkg_layer(gpkg_file, layer_name='normgeparamprofielwaarde')\n",
    "\n",
    "#culverts\n",
    "hydamo.culverts.read_gpkg_layer(gpkg_file, layer_name='DuikerSifonHevel', index_col='code')\n",
    "hydamo.culverts.snap_to_branch(hydamo.branches, snap_method='ends', maxdist=1)\n",
    "hydamo.culverts.dropna(axis=0, inplace=True, subset=['branch_offset'])\n",
    "\n",
    "# weirs - with associated 'kunstwerkopening' and 'regelmiddel'\n",
    "hydamo.weirs.read_gpkg_layer(gpkg_file, layer_name='Stuw', index_col='code')\n",
    "hydamo.weirs.snap_to_branch(hydamo.branches, snap_method='overal', maxdist=1)\n",
    "hydamo.weirs.dropna(axis=0, inplace=True, subset=['branch_offset'])\n",
    "hydamo.opening.read_gpkg_layer(gpkg_file, layer_name='Kunstwerkopening')\n",
    "hydamo.management_device.read_gpkg_layer(gpkg_file, layer_name='Regelmiddel')\n",
    "\n",
    "# pumps\n",
    "#hydamo.pumpstations.read_gpkg_layer(gpkg_file, layer_name='Gemaal',index_col='code')\n",
    "#hydamo.pumpstations.snap_to_branch(hydamo.branches, snap_method='overal', maxdist=1)\n",
    "#hydamo.pumps.read_gpkg_layer(gpkg_file,layer_name='Pomp', index_col='code')\n",
    "#hydamo.management.read_gpkg_layer(gpkg_file, layer_name='Sturing', index_col='code')\n",
    "\n",
    "# bridge\n",
    "hydamo.bridges.read_gpkg_layer(gpkg_file, layer_name='Brug', index_col='code')\n",
    "hydamo.bridges.snap_to_branch(hydamo.branches, snap_method='overal', maxdist=1)\n",
    "hydamo.bridges.dropna(axis=0, inplace=True, subset=['branch_offset'])\n",
    "\n",
    "# boundary conditions\n",
    "#hydamo.boundary_conditions.read_gpkg_layer(gpkg_file, layer_name='hydrologischerandvoorwaarde', index_col='code')\n",
    "#hydamo.boundary_conditions.snap_to_branch(hydamo.branches, snap_method='overal', maxdist=1)\n",
    "    "
   ]
  },
  {
   "cell_type": "markdown",
   "id": "10174142-9f7e-4340-92ce-039b8133abf4",
   "metadata": {},
   "source": [
    "We do not need catchments if we do not schematise RR, but we can use the same locations of the laterals. In this case, the laterals include a column containing the specific discharge. The locations of the laterals are snapped to the branches."
   ]
  },
  {
   "cell_type": "code",
   "execution_count": 16,
   "id": "741e3a96",
   "metadata": {},
   "outputs": [
    {
     "name": "stderr",
     "output_type": "stream",
     "text": [
      "c:\\Users\\langjo02\\.conda\\envs\\delft3dfmpy_2.0.3\\lib\\site-packages\\geopandas\\geodataframe.py:422: RuntimeWarning: Sequential read of iterator was interrupted. Resetting iterator. This can negatively impact the performance.\n",
      "  for feature in features_lst:\n"
     ]
    },
    {
     "ename": "KeyError",
     "evalue": "'code'",
     "output_type": "error",
     "traceback": [
      "\u001b[1;31m---------------------------------------------------------------------------\u001b[0m",
      "\u001b[1;31mKeyError\u001b[0m                                  Traceback (most recent call last)",
      "File \u001b[1;32m~\\AppData\\Roaming\\Python\\Python38\\site-packages\\pandas\\core\\indexes\\base.py:3802\u001b[0m, in \u001b[0;36mIndex.get_loc\u001b[1;34m(self, key, method, tolerance)\u001b[0m\n\u001b[0;32m   3801\u001b[0m \u001b[39mtry\u001b[39;00m:\n\u001b[1;32m-> 3802\u001b[0m     \u001b[39mreturn\u001b[39;00m \u001b[39mself\u001b[39;49m\u001b[39m.\u001b[39;49m_engine\u001b[39m.\u001b[39;49mget_loc(casted_key)\n\u001b[0;32m   3803\u001b[0m \u001b[39mexcept\u001b[39;00m \u001b[39mKeyError\u001b[39;00m \u001b[39mas\u001b[39;00m err:\n",
      "File \u001b[1;32m~\\AppData\\Roaming\\Python\\Python38\\site-packages\\pandas\\_libs\\index.pyx:138\u001b[0m, in \u001b[0;36mpandas._libs.index.IndexEngine.get_loc\u001b[1;34m()\u001b[0m\n",
      "File \u001b[1;32m~\\AppData\\Roaming\\Python\\Python38\\site-packages\\pandas\\_libs\\index.pyx:165\u001b[0m, in \u001b[0;36mpandas._libs.index.IndexEngine.get_loc\u001b[1;34m()\u001b[0m\n",
      "File \u001b[1;32mpandas\\_libs\\hashtable_class_helper.pxi:5745\u001b[0m, in \u001b[0;36mpandas._libs.hashtable.PyObjectHashTable.get_item\u001b[1;34m()\u001b[0m\n",
      "File \u001b[1;32mpandas\\_libs\\hashtable_class_helper.pxi:5753\u001b[0m, in \u001b[0;36mpandas._libs.hashtable.PyObjectHashTable.get_item\u001b[1;34m()\u001b[0m\n",
      "\u001b[1;31mKeyError\u001b[0m: 'code'",
      "\nThe above exception was the direct cause of the following exception:\n",
      "\u001b[1;31mKeyError\u001b[0m                                  Traceback (most recent call last)",
      "\u001b[1;32md:\\werkplan 2023\\kennisagenda\\23K01_dhydromodellering\\01-importeer-neerslag-afvoer-uit-modellen\\05_Notebooks\\Generate_model-HH.ipynb Cell 15\u001b[0m in \u001b[0;36m3\n\u001b[0;32m      <a href='vscode-notebook-cell:/d%3A/werkplan%202023/kennisagenda/23K01_dhydromodellering/01-importeer-neerslag-afvoer-uit-modellen/05_Notebooks/Generate_model-HH.ipynb#Y142sZmlsZQ%3D%3D?line=0'>1</a>\u001b[0m laterals_shape \u001b[39m=\u001b[39m os\u001b[39m.\u001b[39mpath\u001b[39m.\u001b[39mabspath(\u001b[39mr\u001b[39m\u001b[39m'\u001b[39m\u001b[39m..\u001b[39m\u001b[39m\\\u001b[39m\u001b[39m00_Data\u001b[39m\u001b[39m\\\u001b[39m\u001b[39moutput_afvoeren\u001b[39m\u001b[39m\\\u001b[39m\u001b[39mtimeseries\u001b[39m\u001b[39m\\\u001b[39m\u001b[39mcombinedoutput.csv\u001b[39m\u001b[39m'\u001b[39m)\n\u001b[0;32m      <a href='vscode-notebook-cell:/d%3A/werkplan%202023/kennisagenda/23K01_dhydromodellering/01-importeer-neerslag-afvoer-uit-modellen/05_Notebooks/Generate_model-HH.ipynb#Y142sZmlsZQ%3D%3D?line=1'>2</a>\u001b[0m \u001b[39m#laterals_shape = r'd:\\werkplan 2023\\kennisagenda\\23K01_dhydromodellering\\01-importeer-neerslag-afvoer-uit-modellen\\00_Data\\gis\\20230424_aangepast script Hoge Raam_lateralen\\combinedoutput_aangepast.csv'\u001b[39;00m\n\u001b[1;32m----> <a href='vscode-notebook-cell:/d%3A/werkplan%202023/kennisagenda/23K01_dhydromodellering/01-importeer-neerslag-afvoer-uit-modellen/05_Notebooks/Generate_model-HH.ipynb#Y142sZmlsZQ%3D%3D?line=2'>3</a>\u001b[0m hydamo\u001b[39m.\u001b[39;49mlaterals\u001b[39m.\u001b[39;49mread_shp(laterals_shape, column_mapping \u001b[39m=\u001b[39;49m {\u001b[39m\"\u001b[39;49m\u001b[39mindex\u001b[39;49m\u001b[39m\"\u001b[39;49m: \u001b[39m\"\u001b[39;49m\u001b[39mcode\u001b[39;49m\u001b[39m\"\u001b[39;49m})\n\u001b[0;32m      <a href='vscode-notebook-cell:/d%3A/werkplan%202023/kennisagenda/23K01_dhydromodellering/01-importeer-neerslag-afvoer-uit-modellen/05_Notebooks/Generate_model-HH.ipynb#Y142sZmlsZQ%3D%3D?line=3'>4</a>\u001b[0m totaal_laterals \u001b[39m=\u001b[39m \u001b[39mlen\u001b[39m(hydamo\u001b[39m.\u001b[39mlaterals)\n\u001b[0;32m      <a href='vscode-notebook-cell:/d%3A/werkplan%202023/kennisagenda/23K01_dhydromodellering/01-importeer-neerslag-afvoer-uit-modellen/05_Notebooks/Generate_model-HH.ipynb#Y142sZmlsZQ%3D%3D?line=4'>5</a>\u001b[0m hydamo\u001b[39m.\u001b[39mlaterals\u001b[39m.\u001b[39msnap_to_branch(hydamo\u001b[39m.\u001b[39mbranches, snap_method\u001b[39m=\u001b[39m\u001b[39m'\u001b[39m\u001b[39moveral\u001b[39m\u001b[39m'\u001b[39m, maxdist\u001b[39m=\u001b[39m\u001b[39m1000\u001b[39m)\n",
      "File \u001b[1;32mc:\\Users\\langjo02\\.conda\\envs\\delft3dfmpy_2.0.3\\lib\\site-packages\\delft3dfmpy\\datamodels\\common.py:113\u001b[0m, in \u001b[0;36mExtendedGeoDataFrame.read_shp\u001b[1;34m(self, path, index_col, column_mapping, check_columns, proj_crs, clip, check_geotype, id_col, filter_cols, filter_rows, logger)\u001b[0m\n\u001b[0;32m    111\u001b[0m \u001b[39mif\u001b[39;00m \u001b[39m'\u001b[39m\u001b[39mMultiPolygon\u001b[39m\u001b[39m'\u001b[39m \u001b[39mor\u001b[39;00m \u001b[39m'\u001b[39m\u001b[39mMultiLineString\u001b[39m\u001b[39m'\u001b[39m \u001b[39min\u001b[39;00m \u001b[39mstr\u001b[39m(gdf\u001b[39m.\u001b[39mgeometry\u001b[39m.\u001b[39mtype):\n\u001b[0;32m    112\u001b[0m     gdf \u001b[39m=\u001b[39m gdf\u001b[39m.\u001b[39mexplode()\n\u001b[1;32m--> 113\u001b[0m     \u001b[39mfor\u001b[39;00m ftc \u001b[39min\u001b[39;00m gdf[id_col]\u001b[39m.\u001b[39munique():\n\u001b[0;32m    114\u001b[0m         \u001b[39mif\u001b[39;00m \u001b[39mlen\u001b[39m(gdf[gdf[id_col]\u001b[39m==\u001b[39mftc]) \u001b[39m>\u001b[39m \u001b[39m1\u001b[39m:\n\u001b[0;32m    115\u001b[0m             gdf\u001b[39m.\u001b[39mloc[gdf[id_col]\u001b[39m==\u001b[39mftc, id_col] \u001b[39m=\u001b[39m [\u001b[39mf\u001b[39m\u001b[39m'\u001b[39m\u001b[39m{\u001b[39;00mi\u001b[39m}\u001b[39;00m\u001b[39m_\u001b[39m\u001b[39m{\u001b[39;00mn\u001b[39m}\u001b[39;00m\u001b[39m'\u001b[39m \u001b[39mfor\u001b[39;00m n, i \u001b[39min\u001b[39;00m \u001b[39menumerate\u001b[39m(gdf[gdf[id_col]\u001b[39m==\u001b[39mftc][id_col])]\n",
      "File \u001b[1;32mc:\\Users\\langjo02\\.conda\\envs\\delft3dfmpy_2.0.3\\lib\\site-packages\\geopandas\\geodataframe.py:828\u001b[0m, in \u001b[0;36mGeoDataFrame.__getitem__\u001b[1;34m(self, key)\u001b[0m\n\u001b[0;32m    822\u001b[0m \u001b[39mdef\u001b[39;00m \u001b[39m__getitem__\u001b[39m(\u001b[39mself\u001b[39m, key):\n\u001b[0;32m    823\u001b[0m     \u001b[39m\"\"\"\u001b[39;00m\n\u001b[0;32m    824\u001b[0m \u001b[39m    If the result is a column containing only 'geometry', return a\u001b[39;00m\n\u001b[0;32m    825\u001b[0m \u001b[39m    GeoSeries. If it's a DataFrame with a 'geometry' column, return a\u001b[39;00m\n\u001b[0;32m    826\u001b[0m \u001b[39m    GeoDataFrame.\u001b[39;00m\n\u001b[0;32m    827\u001b[0m \u001b[39m    \"\"\"\u001b[39;00m\n\u001b[1;32m--> 828\u001b[0m     result \u001b[39m=\u001b[39m \u001b[39msuper\u001b[39;49m(GeoDataFrame, \u001b[39mself\u001b[39;49m)\u001b[39m.\u001b[39;49m\u001b[39m__getitem__\u001b[39;49m(key)\n\u001b[0;32m    829\u001b[0m     geo_col \u001b[39m=\u001b[39m \u001b[39mself\u001b[39m\u001b[39m.\u001b[39m_geometry_column_name\n\u001b[0;32m    830\u001b[0m     \u001b[39mif\u001b[39;00m \u001b[39misinstance\u001b[39m(result, Series) \u001b[39mand\u001b[39;00m \u001b[39misinstance\u001b[39m(result\u001b[39m.\u001b[39mdtype, GeometryDtype):\n",
      "File \u001b[1;32m~\\AppData\\Roaming\\Python\\Python38\\site-packages\\pandas\\core\\frame.py:3807\u001b[0m, in \u001b[0;36mDataFrame.__getitem__\u001b[1;34m(self, key)\u001b[0m\n\u001b[0;32m   3805\u001b[0m \u001b[39mif\u001b[39;00m \u001b[39mself\u001b[39m\u001b[39m.\u001b[39mcolumns\u001b[39m.\u001b[39mnlevels \u001b[39m>\u001b[39m \u001b[39m1\u001b[39m:\n\u001b[0;32m   3806\u001b[0m     \u001b[39mreturn\u001b[39;00m \u001b[39mself\u001b[39m\u001b[39m.\u001b[39m_getitem_multilevel(key)\n\u001b[1;32m-> 3807\u001b[0m indexer \u001b[39m=\u001b[39m \u001b[39mself\u001b[39;49m\u001b[39m.\u001b[39;49mcolumns\u001b[39m.\u001b[39;49mget_loc(key)\n\u001b[0;32m   3808\u001b[0m \u001b[39mif\u001b[39;00m is_integer(indexer):\n\u001b[0;32m   3809\u001b[0m     indexer \u001b[39m=\u001b[39m [indexer]\n",
      "File \u001b[1;32m~\\AppData\\Roaming\\Python\\Python38\\site-packages\\pandas\\core\\indexes\\base.py:3804\u001b[0m, in \u001b[0;36mIndex.get_loc\u001b[1;34m(self, key, method, tolerance)\u001b[0m\n\u001b[0;32m   3802\u001b[0m     \u001b[39mreturn\u001b[39;00m \u001b[39mself\u001b[39m\u001b[39m.\u001b[39m_engine\u001b[39m.\u001b[39mget_loc(casted_key)\n\u001b[0;32m   3803\u001b[0m \u001b[39mexcept\u001b[39;00m \u001b[39mKeyError\u001b[39;00m \u001b[39mas\u001b[39;00m err:\n\u001b[1;32m-> 3804\u001b[0m     \u001b[39mraise\u001b[39;00m \u001b[39mKeyError\u001b[39;00m(key) \u001b[39mfrom\u001b[39;00m \u001b[39merr\u001b[39;00m\n\u001b[0;32m   3805\u001b[0m \u001b[39mexcept\u001b[39;00m \u001b[39mTypeError\u001b[39;00m:\n\u001b[0;32m   3806\u001b[0m     \u001b[39m# If we have a listlike key, _check_indexing_error will raise\u001b[39;00m\n\u001b[0;32m   3807\u001b[0m     \u001b[39m#  InvalidIndexError. Otherwise we fall through and re-raise\u001b[39;00m\n\u001b[0;32m   3808\u001b[0m     \u001b[39m#  the TypeError.\u001b[39;00m\n\u001b[0;32m   3809\u001b[0m     \u001b[39mself\u001b[39m\u001b[39m.\u001b[39m_check_indexing_error(key)\n",
      "\u001b[1;31mKeyError\u001b[0m: 'code'"
     ]
    }
   ],
   "source": [
    "laterals_shape = os.path.abspath(r'..\\00_Data\\output_afvoeren\\timeseries\\combinedoutput.csv')\n",
    "#laterals_shape = r'd:\\werkplan 2023\\kennisagenda\\23K01_dhydromodellering\\01-importeer-neerslag-afvoer-uit-modellen\\00_Data\\gis\\20230424_aangepast script Hoge Raam_lateralen\\combinedoutput_aangepast.csv'\n",
    "hydamo.laterals.read_shp(laterals_shape, column_mapping = {\"index\": \"code\"})\n",
    "totaal_laterals = len(hydamo.laterals)\n",
    "hydamo.laterals.snap_to_branch(hydamo.branches, snap_method='overal', maxdist=1000)\n",
    "hydamo.laterals.dropna(axis=0, inplace=True, subset=['branch_offset'])\n",
    "print('Aantal verwijderde lateralen na snappen:',totaal_laterals-len(hydamo.laterals))"
   ]
  },
  {
   "cell_type": "code",
   "execution_count": null,
   "id": "9110a2ba",
   "metadata": {},
   "outputs": [],
   "source": [
    "hydamo.laterals"
   ]
  },
  {
   "cell_type": "code",
   "execution_count": null,
   "id": "02823368-e2d7-406d-ae06-4f80a14bae2c",
   "metadata": {},
   "outputs": [],
   "source": [
    "# hydamo.laterals.read_gpkg_layer(gpkg_file,layer_name='lateraleknoop')\n",
    "# hydamo.laterals.snap_to_branch(hydamo.branches, snap_method='overal', maxdist=1000)"
   ]
  },
  {
   "cell_type": "code",
   "execution_count": null,
   "id": "79b9846e-3858-43a0-b116-9bfef20534c6",
   "metadata": {},
   "outputs": [],
   "source": [
    "#fn_background = os.path.join(data_path, 'gis', 'achtergrond_oostrum.png')\n",
    "plt.rcParams['axes.edgecolor'] = 'w'\n",
    "\n",
    "fig, ax = plt.subplots(figsize=(10, 10))\n",
    "\n",
    "# ax.fill(*hydamo.clipgeo.exterior.xy, color='w', alpha=0.5)\n",
    "# ax.xaxis.set_visible(False)\n",
    "# ax.yaxis.set_visible(False)\n",
    "#map_extent = [189287.43330048519419506,389693.68099274818086997, 210845.66716714628273621,398529.35119274590397254]\n",
    "ax.set_xlim(171630, 180306)\n",
    "ax.set_ylim(408759, 416775)\n",
    "\n",
    "#achtergrond = plt.imread(fn_background)\n",
    "#ax.imshow(achtergrond, extent=(189287, 210845, 389693, 398529), interpolation='lanczos')\n",
    "\n",
    "hydamo.branches.plot(ax=ax, label='Channel', linewidth=2, color='blue')\n",
    "hydamo.profile.plot(ax=ax, color='red', label='Cross section', linewidth=1)\n",
    "hydamo.culverts.centroid.plot(ax=ax, color='yellow', label='Culvert', markersize=20, zorder=10, marker='^')\n",
    "hydamo.weirs.centroid.plot(ax=ax, color='green', label='Weir', markersize=25, zorder=10, marker='^')\n",
    "hydamo.bridges.plot(ax=ax,color='red',label='Bridge',markersize=20,zorder=10, marker='^')\n",
    "#hydamo.pumpstations.plot(ax=ax, color='orange', label='Pump', marker='s', markersize=125, zorder=10, facecolor='none', linewidth=2.5)\n",
    "hydamo.boundary_conditions.plot(ax=ax, color='red', label='Boundary', marker='s', markersize=125, zorder=10, facecolor='red', linewidth=0)\n",
    "ax.legend()\n",
    "\n",
    "fig.tight_layout()"
   ]
  },
  {
   "cell_type": "markdown",
   "id": "103908f4-2ab4-4606-aa06-14411af96f88",
   "metadata": {},
   "source": [
    "## Generate the D-HYDRO FM schematisation"
   ]
  },
  {
   "cell_type": "markdown",
   "id": "082a7d12-5cc1-45bc-83b3-4110870b8a45",
   "metadata": {},
   "source": [
    "### 1D-network"
   ]
  },
  {
   "cell_type": "markdown",
   "id": "2e9c9933",
   "metadata": {},
   "source": [
    "We first import the structures from the HyDAMO-object, since the structures' positions are necessary for defining the position of the 1D-mesh. Structures can also be added without the HyDAMO imports. One weir is added manually as an example, but equivalent functions are available for all implemented structures.\n",
    "\n",
    "Note that for importing most structures multiple objects are needed from the GPKG. For more info on how to add structures (directly or from HyDAMO), see: https://hkvconfluence.atlassian.net/wiki/spaces/DHYD/overview.\n",
    "\n",
    " - for weirs, a corresponding profile is looked up in the crossections. If one is found, the weir is implemented as a universal weir. If it is not found, a regular (rectangular) weir will be used. The cross-section ('hydamo.profile') should be related through 'hydamo.profile_line' to a 'hydamo.profile_group', which contains a 'stuwid' column which is equal to the GlobalID of the corresponding weir. The weir object can also include orifices, in that case the field 'overlaatonderlaat' in the 'management_device-object ('regelmiddel') is 'onderlaat'. For weirs it should be 'overlaat'.\n",
    " \n",
    " - for culverts, a regelmiddel can be used to model a 'schuif' and/or a 'terugslagklep'. This is specified by the field 'soortregelmiddel'. In case of a 'terugslagklep', the flow direction is set to 'positive' instead of 'both'. In case of a 'schuif', a valve is implemented. Note that in DAMO2.2, an 'afsluitmiddel' can contain the same information. For now, only a regelmiddel (management_device) is implemented. In a next version, the flexibility to use both will be included. \n",
    " \n",
    " - bridges need an associated crosssection. This is idential to universal weirs, but here the 'hydamo.profile_group'-object should contain a field 'brugid'. \n",
    " \n",
    " - pumps are composed from 'hydamo.pumpstations', 'hydamo.pumps' and 'hydamo.managmement'. Only suction-side drection is implemented. Maximal capacity should be in m3/min.\n",
    "\n",
    "In most cases, these 'extra' arguments are optional, i.e. they are not required and can be left out. Some are required:\n",
    "- pumps really need all 3 objects ('hydamo.pumpstations', 'hydamo.pumps' and 'hydamo.managmement');\n",
    "- bridges really need an associated crosssection (see above);\n",
    "\n",
    "For more info on the structure definitions one is referred to the D-Flow FM user manual: https://content.oss.deltares.nl/delft3d/manuals/D-Flow_FM_User_Manual.pdf."
   ]
  },
  {
   "cell_type": "code",
   "execution_count": null,
   "id": "d34177fa-a4e3-44d9-838e-dbcd8e1f1c16",
   "metadata": {},
   "outputs": [],
   "source": [
    "# Collect structures\n",
    "dfmmodel = DFlowFMModel()\n",
    "dfmmodel.structures.io.weirs_from_hydamo(hydamo.weirs, profile_groups=hydamo.profile_group, profile_lines=hydamo.profile_line, profiles=hydamo.profile, opening=hydamo.opening, management_device=hydamo.management_device, management=None)\n",
    "dfmmodel.structures.io.culverts_from_hydamo(hydamo.culverts, management_device=hydamo.management_device)\n",
    "dfmmodel.structures.io.bridges_from_hydamo(hydamo.bridges, profile_groups=hydamo.profile_group, profile_lines=hydamo.profile_line, profiles=hydamo.profile)\n",
    "#dfmmodel.structures.io.pumps_from_hydamo(pompen=hydamo.pumps, sturing=hydamo.management, gemalen=hydamo.pumpstations)\n"
   ]
  },
  {
   "cell_type": "markdown",
   "id": "1aeefc79-6424-44d2-bbb9-20fd657603dc",
   "metadata": {},
   "source": [
    "It is also possible to add extra structures like this:"
   ]
  },
  {
   "cell_type": "code",
   "execution_count": null,
   "id": "17f23292-c80c-4872-b492-65aaf9149fd9",
   "metadata": {},
   "outputs": [],
   "source": [
    "# dfmmodel.structures.add_weir(\n",
    "#     id='extra_weir',\n",
    "#     branchid='W_242213_0',\n",
    "#     chainage=43.0,\n",
    "#     crestlevel=18.00,\n",
    "#     crestwidth=7.5,\n",
    "#     corrcoeff=1.0    \n",
    "# )"
   ]
  },
  {
   "cell_type": "markdown",
   "id": "217a6fc4-d17d-4d1d-ad37-31569aefc636",
   "metadata": {},
   "source": [
    "Add the branches and generate a 1D computational mesh."
   ]
  },
  {
   "cell_type": "code",
   "execution_count": null,
   "id": "e0d21b3e-c7fe-4846-be4a-2a1c9aa635e6",
   "metadata": {},
   "outputs": [],
   "source": [
    "dfmmodel.network.set_branches(hydamo.branches)\n",
    "dfmmodel.network.generate_1dnetwork(one_d_mesh_distance=20.0, seperate_structures=True)"
   ]
  },
  {
   "cell_type": "markdown",
   "id": "056b054a-c187-4449-a311-2580e9b1ae44",
   "metadata": {},
   "source": [
    "Add cross sections. Here two hydamo files are used. First the imported cross sections. If after this there are branch objects left without a cross sections, it is derived from the norm parametrised profile (Dutch: legger).\n",
    "\n",
    "DAMO2.2 contains two roughness variants, 'ruwheidhoog' en ruwheidlaag'. Using roughness_variant, \"High\", or \"Low\", we choose one."
   ]
  },
  {
   "cell_type": "code",
   "execution_count": null,
   "id": "88c1b534-d7d8-4833-8aad-192091297544",
   "metadata": {},
   "outputs": [],
   "source": [
    "# Add cross sections from hydamo\n",
    "hydamo.profile_group.dropna(subset=['brugid'], inplace=True)\n",
    "\n",
    "dfmmodel.crosssections.io.from_hydamo(\n",
    "    crosssections=hydamo.profile,\n",
    "    crosssection_roughness=hydamo.profile_roughness,\n",
    "    profile_group=hydamo.profile_group,\n",
    "    profile_line=hydamo.profile_line,\n",
    "    param_profile=hydamo.param_profile,\n",
    "    param_profile_values=hydamo.param_profile_values,   \n",
    "    branches=hydamo.branches,\n",
    "    roughness_variant = 'High'\n",
    ")\n",
    "\n",
    "print(f'{len(dfmmodel.crosssections.get_branches_without_crosssection())} branches are still missing a cross section.')\n",
    "print(f'{len(dfmmodel.crosssections.get_structures_without_crosssection())} structures are still missing a cross section.')"
   ]
  },
  {
   "cell_type": "markdown",
   "id": "819d8044",
   "metadata": {},
   "source": [
    "Plot the branches without crosssection."
   ]
  },
  {
   "cell_type": "code",
   "execution_count": null,
   "id": "8ab8275e-40be-4ce6-abe5-9d9e7a34bead",
   "metadata": {},
   "outputs": [],
   "source": [
    "missing = dfmmodel.crosssections.get_branches_without_crosssection()\n",
    "plt.rcParams['axes.edgecolor'] = 'w'\n",
    "fig, ax = plt.subplots(figsize=(16, 16))\n",
    "\n",
    "hydamo.profile.plot(ax=ax, color='C3', label='dwarsprofielen', linewidth=5)\n",
    "hydamo.branches.loc[missing,:].plot(ax=ax, color='C4', label='geen dwarsprofiel',linewidth=30)\n",
    "hydamo.branches.plot(ax=ax, label='Watergangen')\n",
    "#gpd.read_file('../gis/roer_hoofdtak.shp').plot(ax=ax, color='C5', label='hoofdtak Roer',linewidth=4, alpha=0.5)\n",
    "ax.get_xaxis().set_visible(False)\n",
    "ax.get_yaxis().set_visible(False)\n",
    "ax.legend()"
   ]
  },
  {
   "cell_type": "markdown",
   "id": "c78a908e-4e2b-48ce-8411-cc79bbc0e5e3",
   "metadata": {},
   "source": [
    "Partly, missing crosssections can be resolved by interpolating over the main branch. We set all branches with identical names to the same order numbers and assign those to the branches. D-Hydro will then interpolate the cross-sections over the branches."
   ]
  },
  {
   "cell_type": "code",
   "execution_count": null,
   "id": "10c87175-afdf-4c32-af17-00df78adb191",
   "metadata": {},
   "outputs": [],
   "source": [
    "j=0\n",
    "hydamo.branches['order'] = np.nan\n",
    "for i in hydamo.branches.naam.unique():\n",
    "    if i != None:\n",
    "        if all(x in missing for x in hydamo.branches.loc[hydamo.branches.loc[:,'naam']==i, 'code']) == False:\n",
    "            hydamo.branches.loc[hydamo.branches.loc[:,'naam']==i, 'order'] = int(j)\n",
    "            j=j+1\n",
    "\n",
    "interpolation=[]\n",
    "for i in hydamo.branches.itertuples():\n",
    "    if i.order > 0:\n",
    "        dfmmodel.network.set_branch_order(hydamo.branches.loc[i.Index,'code'], idx= int(hydamo.branches.at[i.Index,'order']))\n",
    "        interpolation.append(hydamo.branches.loc[i.Index,'code'])"
   ]
  },
  {
   "cell_type": "code",
   "execution_count": null,
   "id": "27a88b07",
   "metadata": {},
   "outputs": [],
   "source": [
    "#ordernummers handmatig toevoegen\n",
    "\n",
    "\n",
    "\n",
    "order_add = [('1055940',9000),('1055945',9000),('1055930',9001),('1055935',9001),('1055920',9001)] \n",
    "\n",
    "for k in order_add:\n",
    "    dfmmodel.network.set_branch_order(k[0], idx= k[1])\n"
   ]
  },
  {
   "cell_type": "code",
   "execution_count": null,
   "id": "95d372c4-9f55-44ed-8d5b-9cdc767dea4e",
   "metadata": {},
   "outputs": [],
   "source": [
    "missing_after_interpolation =np.setdiff1d(missing,interpolation)\n",
    "print('After interpolation', len(missing_after_interpolation), 'crosssections are missing.')"
   ]
  },
  {
   "cell_type": "code",
   "execution_count": null,
   "id": "0add3c16-a8b9-45c5-8f37-9ebc13a6dbb5",
   "metadata": {},
   "outputs": [],
   "source": [
    "plt.rcParams['axes.edgecolor'] = 'w'\n",
    "fig, ax = plt.subplots(figsize=(16, 16))\n",
    "\n",
    "hydamo.profile.plot(ax=ax, color='C3', label='dwarsprofielen', linewidth=5)\n",
    "hydamo.branches.loc[missing_after_interpolation,:].plot(ax=ax, color='C4', label='geen dwarsprofiel',linewidth=30)\n",
    "hydamo.branches.plot(ax=ax, label='Watergangen')\n",
    "#gpd.read_file('../gis/roer_hoofdtak.shp').plot(ax=ax, color='C5', label='hoofdtak Roer',linewidth=4, alpha=0.5)\n",
    "ax.get_xaxis().set_visible(False)\n",
    "ax.get_yaxis().set_visible(False)\n",
    "ax.legend()"
   ]
  },
  {
   "cell_type": "markdown",
   "id": "9b88a131-4eac-47ac-9f92-0d1c1be9e00e",
   "metadata": {},
   "source": [
    "If there are still missing cross sections left, a default one can be added. To do so, add a cross section definition, and assign it with a vertical offset (shift). To prevent that default definitions are assigned to locations that will be interpolated, these locations can be specified."
   ]
  },
  {
   "cell_type": "code",
   "execution_count": null,
   "id": "badd5679-a48c-4347-9741-9da790f13855",
   "metadata": {},
   "outputs": [],
   "source": [
    "# Set a default cross section\n",
    "# default = dfmmodel.crosssections.add_rectangle_definition(\n",
    "#     height=5.0, width=5.0, closed=False, roughnesstype='Strickler', roughnessvalue=30, name='default')\n",
    "# dfmmodel.crosssections.set_default_definition(definition=default, shift=18.0)\n",
    "# dfmmodel.crosssections.set_default_locations(missing_after_interpolation)"
   ]
  },
  {
   "cell_type": "markdown",
   "id": "35915a1d-ab73-4a5a-9095-f2df23b1e3ea",
   "metadata": {},
   "source": [
    "### Boundary condititions"
   ]
  },
  {
   "cell_type": "markdown",
   "id": "2844f190-4c6b-436b-9c53-f7b66a6294ac",
   "metadata": {},
   "source": [
    "Boundary conditions can be set from HyDAMO (as previously read) or added here. Here, because we use a subset of the Oostrumsche beek, we read the downstream water level boundary from the DAMO2.2 data and add a discharge boundary condition at the upper boundary."
   ]
  },
  {
   "cell_type": "code",
   "execution_count": null,
   "id": "c70f2add-ce7a-4d04-914f-49a0dedbb8d1",
   "metadata": {},
   "outputs": [],
   "source": [
    "dfmmodel.external_forcings.io.from_hydamo(hydamo.boundary_conditions)\n",
    "dfmmodel.external_forcings.add_boundary_condition('GraafscheRaam', (179557.,416643.),  'waterlevel', 7.15)"
   ]
  },
  {
   "cell_type": "markdown",
   "id": "78551597-a398-4301-9e08-42e2f07e0346",
   "metadata": {},
   "source": [
    "### Initial conditions"
   ]
  },
  {
   "cell_type": "markdown",
   "id": "6ec06e51-b8ab-4eae-ae64-81b6a0627093",
   "metadata": {},
   "source": [
    "Set the initial water depth to 0.5 m. It is also possible to set a global water level using the equivalent function \"set_initial_waterlevel\"."
   ]
  },
  {
   "cell_type": "code",
   "execution_count": null,
   "id": "2dd1af18-3d51-4767-b2ae-7b66d54ec5d3",
   "metadata": {},
   "outputs": [],
   "source": [
    "# # Initial water depth is set to 0.5 m\n",
    "dfmmodel.external_forcings.set_initial_waterdepth(0.5)"
   ]
  },
  {
   "cell_type": "markdown",
   "id": "97a71235-44a8-4497-bee7-8f07318493f8",
   "metadata": {},
   "source": [
    "### Lateral discharges"
   ]
  },
  {
   "cell_type": "markdown",
   "id": "134c9ed7-25b7-47db-a554-453e6f77a88c",
   "metadata": {},
   "source": [
    "Lateral discharges are schematised using the function 'read_laterals', which receives as arguments the locations of the laterals (see above), discharge (timeseries) and, if applicable, RR-boundaries (not present here).\n",
    "\n",
    "The function first tries to couple a lateral location to an RR-boundary. In D-Hydro, a real-time coupling is created. If no RR-boundary is found, the lateral-discharges object is searched for the lateral. This object can be of two types:\n",
    "- a Pandas series, that contains one number (in m3/s) for every lateral. The 'code' of the lateral should be the index of the series. See example below.\n",
    "- a Pandas dataframe containing time series, with a column for every lateral node. The 'code' of the lateral should be equal to the column names, and the index should contain the timestamps."
   ]
  },
  {
   "cell_type": "markdown",
   "id": "9f37055c",
   "metadata": {},
   "source": [
    "Onderstaande code is om te rekenen met stationaire afvoeren. "
   ]
  },
  {
   "cell_type": "code",
   "execution_count": null,
   "id": "b418c425-c219-436a-8165-81ce842c85e8",
   "metadata": {},
   "outputs": [],
   "source": [
    "# lateral_discharges = hydamo.laterals.afvoer\n",
    "# lateral_discharges.index = hydamo.laterals.code\n",
    "# dfmmodel.external_forcings.io.read_laterals(locations=hydamo.laterals, lateral_discharges=lateral_discharges, rr_boundaries=None)"
   ]
  },
  {
   "cell_type": "markdown",
   "id": "d0ac6766",
   "metadata": {},
   "source": [
    "Onderstaande code is om te rekenen met afvoergolven."
   ]
  },
  {
   "cell_type": "code",
   "execution_count": null,
   "id": "3416ca19",
   "metadata": {},
   "outputs": [],
   "source": [
    "path_discharge = r\"D:\\projecten\\PR4513\\scripts lateralen en overstorten\\23K01-01-importeer-neerslag-afvoer-uit-modellen-main\\00_Data\\output_afvoeren\\timeseries\\combinedoutput_aangepast.csv\"\n",
    "#lateral_discharge = pd.read_csv(r'..\\00_Dataoutput_afvoeren\\timeseries\\combinedoutput.csv',sep=';')\n",
    "lateral_discharge = pd.read_csv(path_discharge,sep=';',skiprows=1,index_col=0, parse_dates=True)\n",
    "#date_format='%Y-%m-%d %h:%m:%s'\n",
    "lateral_discharge\n",
    "dfmmodel.external_forcings.io.read_laterals(locations=hydamo.laterals, lateral_discharges=lateral_discharge, rr_boundaries=None)\n"
   ]
  },
  {
   "cell_type": "code",
   "execution_count": null,
   "id": "c130a4b9",
   "metadata": {},
   "outputs": [],
   "source": [
    "# ###For adding the lateral inflow we import SOBEK results. To do so we use hkvsobekpy. For more info on this module, see: https://github.com/HKV-products-services/hkvsobekpy\n",
    "# # # Add the lateral inflows also from the SOBEK results. Naote that the column names in the his-file need to match\n",
    "# # # the id's of the imported lateral locations at the top of this notebook.\n",
    "# rehis = hkvsobekpy.read_his.ReadMetadata(data_path+'/sobekdata/GHG70.HIS', hia_file='auto')\n",
    "# param = [p for p in rehis.GetParameters() if 'disch' in p][0]\n",
    "# lateral_discharges_SOBEK = rehis.DataFrame().loc[:, param]\n",
    "# #dfmmodel.external_forcings.io.read_laterals(locations=hydamo.laterals, lateral_discharges=lateral_discharges, rr_boundaries=None)\n",
    "# #lateral_discharge.drop('lat_986', inplace=True, axis=1)"
   ]
  },
  {
   "cell_type": "code",
   "execution_count": null,
   "id": "f67e4c10",
   "metadata": {},
   "outputs": [],
   "source": [
    "lateral_discharge"
   ]
  },
  {
   "cell_type": "markdown",
   "id": "4c4e6914-38a0-4f51-8e68-0ac21c660e2a",
   "metadata": {},
   "source": [
    "### Generate the 2D mesh"
   ]
  },
  {
   "cell_type": "markdown",
   "id": "6c6b7e39-c5ff-4ab2-8eff-83deb707a424",
   "metadata": {},
   "source": [
    "To add a mesh, currently 2 options exist:\n",
    "1. The converter can generate a relatively simple, rectangular mesh, with a rotation or refinement. Note that rotation _and_ refinement is currently not possible. In the section below we generate a refined 2D mesh with the following steps:\n",
    "\n",
    "    - Generate grid within a polygon. The polygon is the extent given to the HyDAMO model.\n",
    "    - Refine along the main branch\n",
    "    - Determine altitude from a DEM.\n",
    "\n",
    "    The 'refine'-method requires the dflowfm.exe executable. If this is not added to the system path, it can be provided in an optional argument to refine (dflowfm_path)."
   ]
  },
  {
   "cell_type": "code",
   "execution_count": null,
   "id": "c83826bf-ab72-4f24-801e-f105465e91e9",
   "metadata": {},
   "outputs": [],
   "source": [
    "model2D=False\n",
    "if model2D==True:\n",
    "    # # Create mesh object\n",
    "    mesh = Rectangular()\n",
    "    cellsize = 25\n",
    "\n",
    "    # # Generate mesh within the defined bounds in the shapefile 2D_extent\n",
    "    if float('.'.join(python_version().split('.')[0:2])) >= 3.8:\n",
    "         os.add_dll_directory(dll_path)\n",
    "\n",
    "    extent2D = gpd.read_file(r\"../00_Data/gis/HoogeRaam.shp\")\n",
    "    # bgt = gpd.read_file(r\"../data/gis/bgt.shp\")\n",
    "\n",
    "    # uitknippen = extent2D.unary_union - bgt.unary_union\n",
    "\n",
    "    #mesh.generate_within_polygon(uitknippen, cellsize=cellsize, rotation=0)\n",
    "    mesh.generate_within_polygon(extent2D.unary_union, cellsize=cellsize, rotation=0)\n",
    "\n",
    "    # # Refine the model (2 steps) along the main branch. To do so we generate a buffer around the main branch.\n",
    "    # buffered_branch = hydamo.branches.loc[['W_242223_0', 'W_242224_0'], 'geometry'].unary_union.buffer(10)\n",
    "\n",
    "    # # optional: only possible with dflowfm.exe\n",
    "    # buffered_branch = gpd.read_file(r\"../data/gis/BGT.shp\")\n",
    "    # mesh.refine(polygon=[buffered_branch], level=[1], cellsize=cellsize, dflowfm_path=dflowfm_path)\n",
    "\n",
    "    # # Determine the altitude from a digital elevation model\n",
    "    rasterpath = '../00_Data/rasters/ahn4_5.tif'\n",
    "    mesh.altitude_from_raster(rasterpath)\n",
    "\n",
    "    # # The full DEM is not added to this notebook. Instead a constant bed level is used\n",
    "    # # mesh.altitude_constant(20.0)\n",
    "\n",
    "    # # Add to schematisation\n",
    "    dfmmodel.network.add_mesh2d(mesh)"
   ]
  },
  {
   "cell_type": "markdown",
   "id": "f849c8a9-f493-42c5-af04-9db0df52bc5c",
   "metadata": {},
   "source": [
    "2) a more complex mesh can be created in other software (such as SMS) and then imported in the converter: (uncomment to activate)"
   ]
  },
  {
   "cell_type": "code",
   "execution_count": null,
   "id": "dd2f4a1b-4fcf-4a92-ac10-36968393c5a0",
   "metadata": {},
   "outputs": [],
   "source": [
    "# from dhydamo.core.mesh2d import Mesh2D\n",
    "# mesh = Mesh2D()\n",
    "# #import the geometry\n",
    "# mesh.geom_from_netcdf(r'T:\\2Hugo\\Grid_Roer_net.nc')\n",
    "# fill every cell with an elevation value\n",
    "# mesh.altitude_from_raster(rasterpath)\n",
    "# and add to the model\n",
    "# dfmmodel.network.add_mesh2d(mesh)"
   ]
  },
  {
   "cell_type": "markdown",
   "id": "ea4ea69e-52f1-4b2f-9009-4e414db6ad99",
   "metadata": {},
   "source": [
    "### Add 1D2D-links"
   ]
  },
  {
   "cell_type": "markdown",
   "id": "f818aa07-e8e4-4ff7-b8e0-548d34d34ce4",
   "metadata": {},
   "source": [
    "For linking the 1D and 2D model, three options are available:\n",
    "1. Generating links from each 1d node to the nearest 2d node.\n",
    "2. Generating links from each 2d node to the nearest 1d node (intersecting==True)\n",
    "3. Generating links from each 2d node to the nearest 1d node, while not allowing the links to intersect other cells (intersecting==True).\n",
    "\n",
    "Intersecting indicates whether or not the 2D cells cross the 1D network (lateral versus embedded links).\n",
    "So, option 3 is relevant when there is no 2d mesh on top of the 1d mesh: the lateral links.\n",
    "\n",
    "Note that for each option a maximum link length can be chosen, to prevent creating long (and perhaps unrealistic) links."
   ]
  },
  {
   "cell_type": "code",
   "execution_count": null,
   "id": "84424a4f-2cec-4d72-a082-033ea91f04cf",
   "metadata": {},
   "outputs": [],
   "source": [
    "# del dfmmodel.network.links1d2d.faces2d[:]\n",
    "# del dfmmodel.network.links1d2d.nodes1d[:]\n",
    "\n",
    "# # Generate 1D2D links with a maximum length of 50 m\n",
    "# dfmmodel.network.links1d2d.generate_1d_to_2d(max_distance=50)\n",
    "\n",
    "# # No links will be generated from 1D nodes with a boundary condition\n",
    "# dfmmodel.network.links1d2d.remove_1d_endpoints()"
   ]
  },
  {
   "cell_type": "code",
   "execution_count": null,
   "id": "3c211976-5951-4d2d-b29b-bbc633215e73",
   "metadata": {},
   "outputs": [],
   "source": [
    "# fig, ax = plt.subplots(figsize=(13, 10))\n",
    "# ax.set_aspect(1.0)\n",
    "\n",
    "# segments = dfmmodel.network.mesh2d.get_segments()\n",
    "# ax.add_collection(LineCollection(segments, color='0.3', linewidths=0.5, label='2D-mesh'))\n",
    "\n",
    "# links = dfmmodel.network.links1d2d.get_1d2dlinks()\n",
    "# ax.add_collection(LineCollection(links, color='k', linewidths=0.5))\n",
    "# ax.plot(links[:, :, 0].ravel(), links[:, :, 1].ravel(), color='k', marker='.', ls='', label='1D2D-links')\n",
    "\n",
    "# # for i, p in enumerate([buffered_branch]):\n",
    "# #     ax.plot(*p.exterior.xy, color='C3', lw=1.5, zorder=10, alpha=0.8, label='Refinement buffer' if i==0 else None)\n",
    "\n",
    "# hydamo.branches.plot(ax=ax, color='C0', lw=2.5, alpha=0.8, label='1D-mesh')\n",
    "\n",
    "# ax.legend()\n",
    "\n",
    "# ax.set_xlim(171629, 180305)\n",
    "# ax.set_ylim(408759, 416775);"
   ]
  },
  {
   "cell_type": "markdown",
   "id": "4ba45f12-8554-42ba-956f-f10be85317f7",
   "metadata": {},
   "source": [
    "### Observation points"
   ]
  },
  {
   "cell_type": "markdown",
   "id": "2dad36d5-b29c-4192-b0eb-5da8a26754de",
   "metadata": {},
   "source": [
    "Observation points are now written in the new format, where once can discriminate between 1D ('1d') and 2D ('2d') observation points. This can be done using the optional argument 'locationTypes'. If it is omitted, all points are assumed to be 1d. 1D-points are always snapped to a the nearest branch. 2D-observation points are always defined by their X/Y-coordinates.\n",
    "\n",
    "Note: add_points can be called only once: once dfmodel.observation_points is filled,the add_points-method is not available anymore. Observation point coordinates can be definied eiher as an (x,y)-tuple or as a shapely Point-object."
   ]
  },
  {
   "cell_type": "code",
   "execution_count": null,
   "id": "136130dd-aaa4-42c5-b1b6-19cb2c31ea21",
   "metadata": {},
   "outputs": [],
   "source": [
    "#dfmmodel.observation_points.add_points([Point((200200,395600)),(200200,396200)],['ObsPt1','ObsPt2'], locationTypes=['1d','1d'], snap_distance=10.)"
   ]
  },
  {
   "cell_type": "markdown",
   "id": "4cab3a7d-a360-4d31-8f6f-91696a38e292",
   "metadata": {},
   "source": [
    "## Writing the model"
   ]
  },
  {
   "cell_type": "markdown",
   "id": "141fdda0-ee07-42da-8798-b77ce40b6530",
   "metadata": {},
   "source": [
    "### Settings and writing\n",
    "\n",
    "Finally, we adjust some settings and export the FM-model. For more info on the settings: https://content.oss.deltares.nl/delft3d/manuals/D-Flow_FM_User_Manual.pdf\n",
    "\n",
    "The 1D/2D model (FM) is written to the sub-folder 'fm'. By adding 'dimr_path', also a dimr-config and a run.bat is included in the fm-folder to to run the model in DIMR. To open in the GUI, import dimr_config.xml or the MDU."
   ]
  },
  {
   "cell_type": "code",
   "execution_count": null,
   "id": "a4662a08-6be9-4450-b1ba-6209fa9f4dd8",
   "metadata": {},
   "outputs": [],
   "source": [
    "# for FM model\n",
    "dfmmodel.mdu_parameters['refdate'] = 20101109\n",
    "dfmmodel.mdu_parameters['tstart'] = 0 * 3600\n",
    "dfmmodel.mdu_parameters['tstop'] =  20.0 * 12 * 3600\n",
    "dfmmodel.mdu_parameters['hisinterval'] = '3600. 0. 1036800.'\n",
    "dfmmodel.mdu_parameters['mapinterval'] = '3600. 0. 1036800.'\n",
    "dfmmodel.mdu_parameters['cflmax'] = 0.7\n",
    "dfmmodel.mdu_parameters['OutputDir'] = 'output'\n",
    "dfmmodel.mdu_parameters['useVolumeTables'] = 1 # oparameter setting advised by Deltares for better performance\n",
    "dfmmodel.mdu_parameters['increment'] = 0.2 # oparameter setting advised by Deltares for better performance\n",
    "dfmmodel.mdu_parameters['NcFormat'] = 4 # oparameter setting advised by Deltares for better performance\n",
    "dfmmodel.mdu_parameters['NcNoForcedFlush'] = 1 # oparameter setting advised by Deltares for better performance\n",
    "dfmmodel.mdu_parameters['MapFormat'] = 4 # oparameter setting advised by Deltares for better performance\n",
    "dfmmodel.mdu_parameters['NcNoUnlimited'] = 1 # oparameter setting advised by Deltares for better performance\n",
    "\n",
    "dfmmodel.dimr_path = dimr_path\n",
    "\n",
    "print('Writing model')\n",
    "\n",
    "# # Create writer\n",
    "fm_writer = DFlowFMWriter(dfmmodel, output_dir= output_path, name='Hooge Raam')\n",
    "\n",
    "# # Write as model\n",
    "# fm_writer.objects_to_ldb()"
   ]
  },
  {
   "cell_type": "code",
   "execution_count": null,
   "id": "8710e6f1-d029-4b7a-b666-f9b5be874655",
   "metadata": {
    "tags": []
   },
   "outputs": [],
   "source": [
    "fm_writer.write_all()"
   ]
  },
  {
   "cell_type": "markdown",
   "id": "0d62989b-830f-4821-9eaf-288e547ed19b",
   "metadata": {},
   "source": [
    "Finished! Start the coupled model by clicking run.bat in the output model, or import the dimr_config.xml in the GUI."
   ]
  }
 ],
 "metadata": {
  "kernelspec": {
   "display_name": "Python 3",
   "language": "python",
   "name": "python3"
  },
  "language_info": {
   "codemirror_mode": {
    "name": "ipython",
    "version": 3
   },
   "file_extension": ".py",
   "mimetype": "text/x-python",
   "name": "python",
   "nbconvert_exporter": "python",
   "pygments_lexer": "ipython3",
   "version": "3.8.13"
  }
 },
 "nbformat": 4,
 "nbformat_minor": 5
}
