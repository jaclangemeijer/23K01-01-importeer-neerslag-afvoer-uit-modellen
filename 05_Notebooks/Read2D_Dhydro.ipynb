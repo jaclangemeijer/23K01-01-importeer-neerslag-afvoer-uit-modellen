{
 "cells": [
  {
   "cell_type": "markdown",
   "id": "0029d53f",
   "metadata": {},
   "source": [
    "## Script om 2D overstromingsbeelden van twee of meerdere modelscenario's of modellen te vergelijken\n",
    "Dit script leest 2D overstromingsresultaten uit van twee (of meer) modelscenario's en berekend verschillen tussen beide\n",
    "\n",
    "Aandachtspunten:\n",
    "* voor een werkend script moet bij D-Hydro versie 2022.04 Mesh met een hoofdletter m worden geschreven. Dat dient ook in het achterliggende resultreaderSubGrid.py verwerkt te worden\n",
    "* de padverwijzingen in het notebook is gericht op modellen die zijn opgeslagen en doorgerekend in de GUI (.dsproj_data\\FlowFM\\output\\)\n",
    "* gebruik van anaconda environment delft3dfmpy_2_0_3\n",
    "* het script maakt gebruik van resultsreaderSubGrid.py. Dit bestand dient in dezelfde map als deze notebook geplaatst te worden."
   ]
  },
  {
   "cell_type": "markdown",
   "id": "022dbaff",
   "metadata": {},
   "source": [
    "### Inlezen van de benodigde packages"
   ]
  },
  {
   "cell_type": "code",
   "execution_count": null,
   "id": "ccee1d7c-518d-4f48-aa15-df6eff1da553",
   "metadata": {},
   "outputs": [],
   "source": [
    "#packages inlezen\n",
    "from netCDF4 import Dataset, chartostring\n",
    "import pandas as pd\n",
    "import geopandas as gpd\n",
    "import numpy as np\n",
    "from scipy import spatial\n",
    "import matplotlib.pyplot as plt\n",
    "import os, sys, time\n",
    "import numpy as np\n",
    "import geopandas as gpd\n",
    "import hkvsobekpy as hkv\n",
    "import resultreaderSubGrid as resultreader\n",
    "\n",
    "from datetime import timedelta\n",
    "from datetime import datetime\n",
    "from datetime import datetime\n",
    "from pathlib import Path\n",
    "from shapely.geometry import Point\n",
    "%matplotlib inline"
   ]
  },
  {
   "cell_type": "markdown",
   "id": "d231ecdc-4943-48fd-a026-fed6750efb55",
   "metadata": {},
   "source": [
    "### Functies definieren\n",
    "\n",
    "Hier worden de functies gedefinieert waarmee de modelresultaten naar shapefiles worden geschreven"
   ]
  },
  {
   "cell_type": "markdown",
   "id": "833c500c",
   "metadata": {},
   "source": [
    "#### Wegschrijven modelresultaat naar shapefile\n",
    "Functie om fou en map bestand om te zetten naar shape met daarin maximum waterdiepte, tijdstip (uren) waarop cel nat wordt (meer dan 2 cm diepte), tijdstip waarop cel weer droog wordt (minder dan 2 cm diepte), duur van nat zijn en waterdiepte aan einde simulatie."
   ]
  },
  {
   "cell_type": "code",
   "execution_count": null,
   "id": "935fe973-2d2f-41b6-b495-db634d9679fe",
   "metadata": {},
   "outputs": [],
   "source": [
    "def Fou2Kaart(Werkmap,ResMap,ID):\n",
    "    FourrierFile=ResMap+\"/output/\"+'FlowFM_fou.nc'\n",
    "    MapFile=ResMap+\"/output/\"+'FlowFM_map.nc'\n",
    "    Folder=ResMap\n",
    "    #Fourrier uitlezen\n",
    "    results = resultreader.Results(FourrierFile)\n",
    "    DepthM=results.get_data('Mesh2d_fourier001_max_depth').data\n",
    "    DepthM[DepthM<0.01]=-9999\n",
    "    #Map bestand uitlezen\n",
    "    results = resultreader.Results(MapFile)\n",
    "    DepthT=results.get_data('Mesh2d_waterdepth').data\n",
    "    DepthM[DepthT[1,:]>0]=-9999\n",
    "    Time=results.get_data('time').data\n",
    "    #Berekenen stijgsnelheid en Twet\n",
    "    Twet=np.zeros(len(DepthM))    \n",
    "    Tdry=np.zeros(len(DepthM))\n",
    "    Tduur=np.zeros(len(DepthM))\n",
    "    for j,Tijd in enumerate(Time):\n",
    "        Diepte_tijdT=DepthT[j,:]\n",
    "        for k,D in enumerate(Diepte_tijdT):\n",
    "            if (D>0.02) and (Twet[k]==0):\n",
    "                Twet[k]=Tijd\n",
    "            if (D<0.02) and (Twet[k]>0):        \n",
    "                Tdry[k]=Tijd\n",
    "            else:\n",
    "                Tdry[k]=Tijd\n",
    "    Tduur=(Tdry-Twet)/3600   \n",
    "    Dend=DepthT[-1,:]\n",
    "    gdf = gpd.GeoDataFrame(\n",
    "        data=np.c_[\n",
    "            DepthM,\n",
    "            Twet,\n",
    "            Tdry,\n",
    "            Tduur,\n",
    "            Dend,\n",
    "        ],\n",
    "        columns=['wdep_max', 'Twet','Tdry','Tduur','D_einde'],\n",
    "        geometry=results.get_Mesh2d_faces(as_polygon=True),\n",
    "        crs={'init': 'epsg:28992'}\n",
    "    )\n",
    "    gdf.to_file(Werkmap+'/'+ID+'_VectorResultaten.shp')  "
   ]
  },
  {
   "cell_type": "markdown",
   "id": "92a21d70",
   "metadata": {},
   "source": [
    "#### Berekenen verschil in inundatieoppervlak en waterdiepte tussen twee modellen\n",
    "Functie om het vershil in waterdiepte tussen twee fou bestanden (zelfde rooster) te bepalen en om bins op te zetten die aangeven wat het verschil in geinundeerd gebied is. Bin=1 is alleen nat in fou bestand 1, Bin=2 is alleen nat in 2, Bin=3 is nat in allebei en Bin=0 is droog in allebei. Resultaat komt in shape."
   ]
  },
  {
   "cell_type": "code",
   "execution_count": null,
   "id": "e0ba6709-8501-4ae4-8fd6-b10f798aa9bd",
   "metadata": {},
   "outputs": [],
   "source": [
    "def DiffDiep(Werkmap,ResMap1,ID1,ResMap2,ID2):\n",
    "    FourrierFile=ResMap1+\"/output/\"+'FlowFM_fou.nc'\n",
    "    results = resultreader.Results(FourrierFile)\n",
    "    DepthM_1=results.get_data('Mesh2d_fourier001_max_depth').data    \n",
    "    FourrierFile=ResMap2+\"/output/\"+'FlowFM_fou.nc'    \n",
    "    results = resultreader.Results(FourrierFile)\n",
    "    DepthM_2=results.get_data('Mesh2d_fourier001_max_depth').data\n",
    "    Bin=np.zeros(len(DepthM_1))\n",
    "    for k,val in enumerate(Bin):\n",
    "        if ((DepthM_1[k]>0.01) and (DepthM_2[k]<=0.01)):\n",
    "            Bin[k]=1\n",
    "        elif ((DepthM_1[k]>0.01) and (DepthM_2[k]>0.01)):\n",
    "            Bin[k]=3\n",
    "        elif ((DepthM_1[k]<=0.01) and (DepthM_2[k]<=0.01)):\n",
    "            Bin[k]=0\n",
    "        elif ((DepthM_1[k]<=0.01) and (DepthM_2[k]>0.01)):\n",
    "            Bin[k]=2   \n",
    "    gdf = gpd.GeoDataFrame(\n",
    "        data=np.c_[\n",
    "            DepthM_2-DepthM_1,\n",
    "            Bin,\n",
    "        ],\n",
    "        columns=['DiffH','bin'],\n",
    "        geometry=results.get_Mesh2d_faces(as_polygon=True),\n",
    "        crs={'init': 'epsg:28992'}\n",
    "    )\n",
    "    name='diffDiep_'+ID1+'-'+ID2\n",
    "    gdf.to_file(Werkmap+'/'+name+'.shp')              "
   ]
  },
  {
   "cell_type": "markdown",
   "id": "778a4b7e",
   "metadata": {},
   "source": [
    "#### Berekenen verschil in inundatieoppervlak, waterdiepte en duur van de inundatie tussen twee modellen\n",
    "Functie die bepaald:\n",
    "* verschil waterdiepte tussen twee fou bestanden (zelfde rooster)\n",
    "* tijdsverschil tussen nat worden\n",
    "* tijdsverschil tussen weer droog worden\n",
    "* tijdsverschil duur inundatie\n",
    "* verschil geinundeerd gebied berekenen"
   ]
  },
  {
   "cell_type": "code",
   "execution_count": null,
   "id": "87900d93-ec58-49f0-bd3e-083c39f44750",
   "metadata": {},
   "outputs": [],
   "source": [
    "def DiffDiepDuur(Werkmap,ResMap1,ID1,ResMap2,ID2):\n",
    "    FourrierFile=ResMap1+\"/output/\"+'FlowFM_fou.nc'\n",
    "    MapFile=ResMap1+\"/output/\"+'FlowFM_map.nc'\n",
    "    Folder=ResMap1\n",
    "    #Fourrier uitlezen\n",
    "    results = resultreader.Results(FourrierFile)\n",
    "    DepthM_1=results.get_data('Mesh2d_fourier001_max_depth').data\n",
    "    #DepthM_1[DepthM_1<0.01]=-9999\n",
    "    #Map bestand uitlezen\n",
    "    results = resultreader.Results(MapFile)\n",
    "    DepthT_1=results.get_data('Mesh2d_waterdepth').data\n",
    "    #DepthM_1[DepthT_1[1,:]>0]=-9999\n",
    "    Time=results.get_data('time').data\n",
    "    #Berekenen stijgsnelheid en Twet\n",
    "    Twet_1=np.zeros(len(DepthM_1))    \n",
    "    Tdry_1=np.zeros(len(DepthM_1))\n",
    "    Tduur_1=np.zeros(len(DepthM_1))\n",
    "    for j,Tijd in enumerate(Time):\n",
    "        Diepte_tijdT=DepthT_1[j,:]\n",
    "        for k,D in enumerate(Diepte_tijdT):\n",
    "            if (D>0.01) and (Twet_1[k]==0):\n",
    "                Twet_1[k]=Tijd\n",
    "            if (D<0.01) and (Twet_1[k]>0):        \n",
    "                Tdry_1[k]=Tijd\n",
    "            elif (D>0.01) and (Twet_1[k]>0):        \n",
    "                Tdry_1[k]=Tijd            \n",
    "            else:\n",
    "                Tdry_1[k]=0\n",
    "        #Tdry_1[Twet_1==0]=-9999\n",
    "        #Twet_1[Twet_1==0]=-9999\n",
    "    Tduur_1=(Tdry_1-Twet_1)/3600    \n",
    "    \n",
    "    FourrierFile=ResMap2+\"/output/\"+'FlowFM_fou.nc'\n",
    "    MapFile=ResMap2+\"/output/\"+'FlowFM_map.nc'\n",
    "    Folder=ResMap2\n",
    "    #Fourrier uitlezen\n",
    "    results = resultreader.Results(FourrierFile)\n",
    "    DepthM_2=results.get_data('Mesh2d_fourier001_max_depth').data\n",
    "    #DepthM_2[DepthM_2<0.01]=-9999\n",
    "    #Map bestand uitlezen\n",
    "    results = resultreader.Results(MapFile)\n",
    "    DepthT_2=results.get_data('Mesh2d_waterdepth').data\n",
    "    #DepthM_2[DepthT_2[1,:]>0]=-9999\n",
    "    Time=results.get_data('time').data\n",
    "    #Berekenen stijgsnelheid en Twet\n",
    "    Twet_2=np.zeros(len(DepthM_2))    \n",
    "    Tdry_2=np.zeros(len(DepthM_2))\n",
    "    Tduur_2=np.zeros(len(DepthM_2))\n",
    "    for j,Tijd in enumerate(Time):\n",
    "        Diepte_tijdT=DepthT_2[j,:]\n",
    "        for k,D in enumerate(Diepte_tijdT):\n",
    "            if (D>0.01) and (Twet_2[k]==0):\n",
    "                Twet_2[k]=Tijd\n",
    "            if (D<0.01) and (Twet_2[k]>0):        \n",
    "                Tdry_2[k]=Tijd\n",
    "            elif (D>0.01) and (Twet_2[k]>0):        \n",
    "                Tdry_2[k]=Tijd            \n",
    "            else:\n",
    "                Tdry_2[k]=0\n",
    "        #Tdry_2[Twet_2==0]=-9999\n",
    "        #Twet_2[Twet_2==0]=-9999\n",
    "    Tduur_2=(Tdry_2-Twet_2)/3600\n",
    "    \n",
    "    Only1=np.zeros(len(DepthM_1))\n",
    "    for k,val in enumerate(Only1):\n",
    "        if ((DepthM_1[k]>0.01) and (DepthM_2[k]<=0.01)):\n",
    "            Only1[k]=1\n",
    "        elif ((DepthM_1[k]>0.01) and (DepthM_2[k]>0.01)):\n",
    "            Only1[k]=3\n",
    "        elif ((DepthM_1[k]<=0.01) and (DepthM_2[k]<=0.01)):\n",
    "            Only1[k]=0\n",
    "        elif ((DepthM_1[k]<=0.01) and (DepthM_2[k]>0.01)):\n",
    "            Only1[k]=2\n",
    "    \n",
    "    gdf = gpd.GeoDataFrame(\n",
    "        data=np.c_[\n",
    "            DepthM_1-DepthM_2,\n",
    "            Twet_1-Twet_2,\n",
    "            Tdry_1-Tdry_2,\n",
    "            Tduur_1-Tduur_2,\n",
    "            Only1,\n",
    "        ],\n",
    "        columns=['wdep_diff', 'Twet_diff','Tdry_diff','Tduur_diff','bin'],\n",
    "        geometry=results.get_Mesh2d_faces(as_polygon=True),\n",
    "        crs={'init': 'epsg:28992'}\n",
    "    )\n",
    "    name='diffDiepDuur_'+ID1+'-'+ID2\n",
    "    gdf.to_file(Werkmap+'/'+name+'.shp')  "
   ]
  },
  {
   "cell_type": "markdown",
   "id": "44983947-eb9f-400b-a4ca-1d43822d455c",
   "metadata": {},
   "source": [
    "### Modellen definieren\n",
    "Hieronder worden:\n",
    "* de locatie van de doorgerekende modellen gedefinieerd\n",
    "* de locatie van het resultaat gedefineerd\n",
    "* de modelscenario's opgegeven "
   ]
  },
  {
   "cell_type": "code",
   "execution_count": null,
   "id": "53d283cc-10ed-4ec8-b6cd-76cfaa00c800",
   "metadata": {},
   "outputs": [],
   "source": [
    "model_pad = os.path.abspath('../03_Model') \n",
    "output_pad = os.path.abspath('../02_Validatie/2Doverstromingsbeeld')\n",
    "Modellensets=['06_1D2DmodelGoorloop','07_1D2DmodelGoorloop_GHG140']"
   ]
  },
  {
   "cell_type": "markdown",
   "id": "71f744f7",
   "metadata": {},
   "source": [
    "### Runnen van de functie\n",
    "Hierondder worden de functies uitgevoerd en wordt het resultaat van de analyse weggeschreven"
   ]
  },
  {
   "cell_type": "markdown",
   "id": "7f1ffb43",
   "metadata": {},
   "source": [
    "#### Modelresultaat naar shapefile per model"
   ]
  },
  {
   "cell_type": "code",
   "execution_count": null,
   "id": "f23c9504-79d8-4028-accd-9a1898a15cd4",
   "metadata": {},
   "outputs": [],
   "source": [
    "for modelset in Modellensets:   \n",
    "    Fou2Kaart(output_pad,model_pad+'/'+modelset+'.dsproj_data/FlowFM',modelset)"
   ]
  },
  {
   "cell_type": "markdown",
   "id": "1cbefbda",
   "metadata": {},
   "source": [
    "#### Verschil inundatieoppervlak en waterdiepte naar shapefile"
   ]
  },
  {
   "cell_type": "code",
   "execution_count": null,
   "id": "abce58d3-f982-4d02-a6d5-fa0e06a51a6b",
   "metadata": {},
   "outputs": [],
   "source": [
    "DiffDiep(output_pad,model_pad+'/'+Modellensets[1]+'.dsproj_data/FlowFM',Modellensets[1],model_pad+'/'+Modellensets[0]+'.dsproj_data/FlowFM',Modellensets[0])"
   ]
  },
  {
   "cell_type": "markdown",
   "id": "e529ea42",
   "metadata": {},
   "source": [
    "#### Verschil inundatieoppervlak, waterdiepte en duur van de inundatie naar shapefile"
   ]
  },
  {
   "cell_type": "code",
   "execution_count": null,
   "id": "a69a7230",
   "metadata": {},
   "outputs": [],
   "source": [
    "DiffDiepDuur(output_pad,model_pad+'/'+Modellensets[1]+'.dsproj_data/FlowFM',Modellensets[1],model_pad+'/'+Modellensets[0]+'.dsproj_data/FlowFM',Modellensets[0])"
   ]
  },
  {
   "cell_type": "code",
   "execution_count": null,
   "id": "d0e650fe",
   "metadata": {},
   "outputs": [],
   "source": []
  }
 ],
 "metadata": {
  "kernelspec": {
   "display_name": "Python 3",
   "language": "python",
   "name": "python3"
  },
  "language_info": {
   "codemirror_mode": {
    "name": "ipython",
    "version": 3
   },
   "file_extension": ".py",
   "mimetype": "text/x-python",
   "name": "python",
   "nbconvert_exporter": "python",
   "pygments_lexer": "ipython3",
   "version": "3.8.13"
  }
 },
 "nbformat": 4,
 "nbformat_minor": 5
}
