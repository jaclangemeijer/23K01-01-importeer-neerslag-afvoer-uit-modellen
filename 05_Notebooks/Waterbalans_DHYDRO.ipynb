{
 "cells": [
  {
   "cell_type": "code",
   "execution_count": null,
   "metadata": {},
   "outputs": [],
   "source": [
    "#packages inlezen\n",
    "from netCDF4 import Dataset, chartostring\n",
    "import pandas as pd\n",
    "import geopandas as gpd\n",
    "import numpy as np\n",
    "import matplotlib.pyplot as plt\n",
    "import os, sys, time\n",
    "import hkvsobekpy as hkv\n",
    "import numpy as np\n",
    "import plotly.io as pio\n",
    "import plotly.express as px\n",
    "import plotly.subplots as sp\n",
    "from plotly.subplots import make_subplots\n",
    "import plotly.graph_objects as go\n",
    "import datetime\n",
    "from tqdm import tqdm\n",
    "%matplotlib inline"
   ]
  },
  {
   "cell_type": "code",
   "execution_count": null,
   "metadata": {},
   "outputs": [],
   "source": [
    "#paden opgeven naar modellen\n",
    "#alleen de modelmapnaam aanpassen\n",
    "\n",
    "#DHydro_Model_his= os.path.abspath('../03_Model/06_1D2DmodelGoorloop.dsproj_data/FlowFM/output/FlowFM_his.nc') #Goorloop\n",
    "#DHydro_Model_map = os.path.abspath('../03_Model/06_1D2DmodelGoorloop.dsproj_data/FlowFM/output/FlowFM_map.nc') #Goorloop\n",
    "DHydro_Model_his= os.path.abspath('../03_Model/Hwet2Dtestrun2.dsproj_data/FlowFM/output/FlowFM_his.nc') #Hertogswetering\n",
    "DHydro_Model_map = os.path.abspath('../03_Model/Hwet2Dtestrun2.dsproj_data/FlowFM/output/FlowFM_map.nc') #Hertogswetering\n",
    "\n",
    "opslaan = True"
   ]
  },
  {
   "cell_type": "code",
   "execution_count": null,
   "metadata": {},
   "outputs": [],
   "source": [
    "#his en map bestand uit D-Hydro uitlezen\n",
    "his = Dataset(DHydro_Model_his)\n",
    "network = Dataset(DHydro_Model_map)"
   ]
  },
  {
   "cell_type": "markdown",
   "metadata": {},
   "source": [
    "## Data uitlezen uit D-Hydro"
   ]
  },
  {
   "cell_type": "code",
   "execution_count": null,
   "metadata": {},
   "outputs": [],
   "source": [
    "#D-Hydro 1D\n",
    "node_id = chartostring(network['mesh1d_node_id'][:])\n",
    "node_id = [nodeid.rstrip() for nodeid in node_id]"
   ]
  },
  {
   "cell_type": "code",
   "execution_count": null,
   "metadata": {},
   "outputs": [],
   "source": [
    "\n",
    "ref_time = ' '.join(his['time'].units.split()[2:4])\n",
    "print('reference time D-Hydro:',ref_time)\n",
    "tijd = his['time'][:]\n",
    "\n",
    "ref = datetime.datetime.strptime(ref_time, \"%Y-%m-%d %H:%M:%S\")\n",
    "\n",
    "index_his = [ref + datetime.timedelta(seconds=each) for each in tijd]"
   ]
  },
  {
   "cell_type": "markdown",
   "metadata": {},
   "source": [
    "## Waterbalans"
   ]
  },
  {
   "cell_type": "code",
   "execution_count": null,
   "metadata": {
    "tags": []
   },
   "outputs": [],
   "source": [
    "#waterbalans termen uitlezen uit D-Hydro his bestand\n",
    "in_bound = pd.DataFrame(data = his['water_balance_boundaries_in'][:], index=index_his,columns=['Boundaries in'])\n",
    "out_bound = pd.DataFrame(data = his['water_balance_boundaries_out'][:], index=index_his, columns=['Boundaries out'])\n",
    "total_bound = pd.DataFrame(data = his['water_balance_boundaries_total'][:], index=index_his)\n",
    "storage = pd.DataFrame(data = his['water_balance_storage'][:], index=index_his, columns=['Storage'])\n",
    "lateral = pd.DataFrame(data = his['water_balance_laterals_total'][:], index=index_his, columns=['Lateral disch. tot.'])\n",
    "net_1D2D_in = pd.DataFrame(data = his['water_balance_exchange_with_1D_total'][:], index=index_his, columns=['Net 1D2D in'])\n",
    "#sink = pd.DataFrame(data = his['water_balance_source_sink'][:], index=index_his)\n",
    "totaal = pd.DataFrame(data = his['water_balance_total_volume'][:], index=index_his, columns=['Volume water system']) \n",
    "#time = pd.DataFrame(data = his['water_balance_total_volume'][:], index=index_his) \n",
    "in2D = pd.DataFrame(data = his['water_balance_exchange_with_1D_total'][:], index=index_his, columns=['in2D'])\n",
    "\n",
    "#data = [his['water_balance_boundaries_in'][:], his['water_balance_boundaries_out'][:]]\n",
    "data = [in_bound,out_bound,lateral,storage, totaal]\n",
    "dhydro_balans = pd.concat(data, axis=1)"
   ]
  },
  {
   "cell_type": "code",
   "execution_count": null,
   "metadata": {
    "scrolled": false,
    "tags": []
   },
   "outputs": [],
   "source": [
    "#typ hier plotly om interactieve grafieken te genereren, anders worden er statische afbeeldingen genereert via matplotlib (makkelijker te exporteren)\n",
    "plot = 'plotly'\n",
    "\n",
    "#waterstanden measurement stations\n",
    "for i in ['Boundaries in', 'Boundaries out', 'Lateral disch. tot.','Storage', 'Volume water system']:\n",
    "    if plot == 'plotly':\n",
    "        fig = px.line(dhydro_balans, x = dhydro_balans.index,y = [dhydro_balans.loc[:,i]], title=i,\n",
    "                      labels={\"value\": \"Volume [m3]\",  \"index\": \"Datum\"},\n",
    "                     template='plotly') #template aannpassen, opties zijn:     \n",
    "        #['ggplot2', 'seaborn', 'simple_white', 'plotly',\n",
    "        #'plotly_white', 'plotly_dark', 'presentation', 'xgridoff',\n",
    "        #'ygridoff', 'gridon', 'none']\n",
    "\n",
    "        #verschillende opties voor aan en uitzetten van hoverinfo en opmaak ervan\n",
    "        fig.update_traces(mode=\"lines\", hovertemplate=None)\n",
    "        fig.update_layout(hovermode=\"x unified\")\n",
    "        \n",
    "        #wegschrijven van figuren\n",
    "        if opslaan == True:\n",
    "            pio.write_image(fig,'../02_Validatie/Hertogswetering/Waterbalans/svg/balans_'+ i +'.svg', engine='orca')\n",
    "            fig.write_html('../02_Validatie/Hertogswetering/Waterbalans/html/balans_'+ i +'.html', include_plotlyjs=\"cdn\", full_html=False)\n",
    "\n",
    "        fig.show()\n",
    "        \n",
    "\n",
    "        \n",
    "    else:\n",
    "        fig,ax = plt.subplots(figsize=(20, 10))\n",
    "        ax.plot(df.index,df.loc[:,locatie])\n",
    "        ax.grid()\n",
    "        ax.tick_params(labelsize=16)\n",
    "        ax.legend(['D-Hydro'], fontsize = 16)\n",
    "        ax.set_xlabel('Datum',fontsize=16)\n",
    "        ax.set_ylabel('waterstand [m NAP]',fontsize=16)\n",
    "        ax.set_title(locatie,fontsize=16)\n",
    "        #fig.savefig(Gebied+'/meetpunt/waterstand bij meetpunt {}_V2.png'.format(locatie),bbox_inches='tight')"
   ]
  },
  {
   "cell_type": "code",
   "execution_count": null,
   "metadata": {},
   "outputs": [],
   "source": []
  }
 ],
 "metadata": {
  "kernelspec": {
   "display_name": "Python 3 (ipykernel)",
   "language": "python",
   "name": "python3"
  },
  "language_info": {
   "codemirror_mode": {
    "name": "ipython",
    "version": 3
   },
   "file_extension": ".py",
   "mimetype": "text/x-python",
   "name": "python",
   "nbconvert_exporter": "python",
   "pygments_lexer": "ipython3",
   "version": "3.9.12"
  }
 },
 "nbformat": 4,
 "nbformat_minor": 4
}
