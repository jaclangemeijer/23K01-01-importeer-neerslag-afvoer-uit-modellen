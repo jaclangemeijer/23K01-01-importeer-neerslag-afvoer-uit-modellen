{
 "cells": [
  {
   "cell_type": "code",
   "execution_count": null,
   "metadata": {},
   "outputs": [],
   "source": [
    "#packages inlezen\n",
    "from netCDF4 import Dataset, chartostring\n",
    "import pandas as pd\n",
    "import geopandas as gpd\n",
    "import numpy as np\n",
    "import matplotlib.pyplot as plt\n",
    "import os, sys, time\n",
    "import hkvsobekpy as hkv\n",
    "import numpy as np\n",
    "import plotly.io as pio\n",
    "import plotly.express as px\n",
    "import plotly.subplots as sp\n",
    "from plotly.subplots import make_subplots\n",
    "import plotly.graph_objects as go\n",
    "import datetime\n",
    "from tqdm import tqdm\n",
    "%matplotlib inline"
   ]
  },
  {
   "cell_type": "code",
   "execution_count": null,
   "metadata": {},
   "outputs": [],
   "source": [
    "#paden opgeven naar modellen\n",
    "#alleen de modelmapnaam aanpassen\n",
    "\n",
    "#DHydro_Model_his= os.path.abspath('../03_Model/06_1D2DmodelGoorloop.dsproj_data/FlowFM/output/FlowFM_his.nc') #Goorloop\n",
    "#DHydro_Model_map = os.path.abspath('../03_Model/06_1D2DmodelGoorloop.dsproj_data/FlowFM/output/FlowFM_map.nc') #Goorloop\n",
    "DHydro_Model_his= os.path.abspath('../03_Model/Hwet2Dtestrun2.dsproj_data/FlowFM/output/FlowFM_his.nc') #Hertogswetering\n",
    "DHydro_Model_map = os.path.abspath('../03_Model/Hwet2Dtestrun2.dsproj_data/FlowFM/output/FlowFM_map.nc') #Hertogswetering\n",
    "opslaan = True"
   ]
  },
  {
   "cell_type": "code",
   "execution_count": null,
   "metadata": {},
   "outputs": [],
   "source": [
    "#his en map bestand uit D-Hydro uitlezen\n",
    "his = Dataset(DHydro_Model_his)\n",
    "network = Dataset(DHydro_Model_map)"
   ]
  },
  {
   "cell_type": "code",
   "execution_count": null,
   "metadata": {},
   "outputs": [],
   "source": [
    "#his #zet deze regel aan om te kijken welke parameters er in het D-Hydro _his.nc bestand zitten"
   ]
  },
  {
   "cell_type": "code",
   "execution_count": null,
   "metadata": {},
   "outputs": [],
   "source": [
    "#network #zet deze regel aan om te kijken welke parameters er in het D-Hydro _map.nc bestand zitten"
   ]
  },
  {
   "cell_type": "markdown",
   "metadata": {},
   "source": [
    "## Data uitlezen uit D-Hydro"
   ]
  },
  {
   "cell_type": "code",
   "execution_count": null,
   "metadata": {},
   "outputs": [],
   "source": [
    "#D-Hydro 1D\n",
    "node_id = chartostring(network['mesh1d_node_id'][:])\n",
    "node_id = [nodeid.rstrip() for nodeid in node_id]"
   ]
  },
  {
   "cell_type": "code",
   "execution_count": null,
   "metadata": {},
   "outputs": [],
   "source": [
    "\n",
    "ref_time = ' '.join(his['time'].units.split()[2:4])\n",
    "print('reference time D-Hydro:',ref_time)\n",
    "tijd = his['time'][:]\n",
    "\n",
    "ref = datetime.datetime.strptime(ref_time, \"%Y-%m-%d %H:%M:%S\")\n",
    "\n",
    "index_his = [ref + datetime.timedelta(seconds=each) for each in tijd]\n",
    "\n",
    "locaties = chartostring(his['station_id'][:])\n",
    "locaties = [str(locatie).rstrip() for locatie in locaties]\n",
    "\n",
    "#waterstanden measurement stations\n",
    "data = his['waterlevel'][:]\n",
    "D_meas_WL = pd.DataFrame(data= data, index=index_his, columns = locaties )"
   ]
  },
  {
   "cell_type": "markdown",
   "metadata": {},
   "source": [
    "## Vergelijking bij stuwen"
   ]
  },
  {
   "cell_type": "code",
   "execution_count": null,
   "metadata": {},
   "outputs": [],
   "source": [
    "#vergelijking maken bij kunstwerken en sturing\n",
    "\n",
    "#inlezen D-Hydro data\n",
    "stuwen = chartostring(his['weirgen_id'][:])\n",
    "stuwen = [stuw.rstrip() for stuw in stuwen]\n",
    "\n",
    "HWZ_dhydro= pd.DataFrame(data = his['weirgen_s1up'][:], index=index_his, columns=stuwen)\n",
    "LWZ_dhydro= pd.DataFrame(data = his['weirgen_s1dn'][:], index=index_his, columns=stuwen)\n",
    "Q_dhydro = pd.DataFrame(data = his['weirgen_discharge'][:], index=index_his, columns=stuwen)\n",
    "kruin_dhydro = pd.DataFrame(data = his['weirgen_crest_level'][:], index=index_his, columns=stuwen)"
   ]
  },
  {
   "cell_type": "code",
   "execution_count": null,
   "metadata": {},
   "outputs": [],
   "source": [
    "#Het kan lang duren om voor alle stuwen een grafiek te maken, daarom is het hier mogelijk om een sleectie te maken\n",
    "#stuwen = stuwen[0:50] #eerste 50 stuwen\n",
    "#stuwen =['S242WMW','S256BA','S211B'] # lijst met IDs"
   ]
  },
  {
   "cell_type": "code",
   "execution_count": null,
   "metadata": {},
   "outputs": [],
   "source": [
    "for locatie in stuwen:\n",
    "    if locatie in stuwen:\n",
    "        fig = make_subplots(rows=3, cols=1,\n",
    "                           shared_xaxes=True, subplot_titles=(\"Waterstand\", \"Kruinhoogte\",\"Debiet\"), \n",
    "                            vertical_spacing=0.1)\n",
    " \n",
    "        fig.append_trace(go.Scatter(\n",
    "            x=HWZ_dhydro.loc[:,locatie].index,\n",
    "            y=HWZ_dhydro.loc[:,locatie].values,\n",
    "            name = 'H bovenstrooms',\n",
    "            legendgroup = '1'\n",
    "        ), row=1, col=1)\n",
    "\n",
    "        fig.append_trace(go.Scatter(\n",
    "            x=LWZ_dhydro.loc[:,locatie].index,\n",
    "            y=LWZ_dhydro.loc[:,locatie].values,\n",
    "            name = 'H benedenstrooms',\n",
    "            legendgroup = '1'\n",
    "        ), row=1, col=1)\n",
    "        \n",
    "        fig.append_trace(go.Scatter(\n",
    "            x=kruin_dhydro.loc[:,locatie].index,\n",
    "            y=kruin_dhydro.loc[:,locatie].values,\n",
    "            name = 'Kruinhoogte',\n",
    "            legendgroup = '2'\n",
    "        ), row=2, col=1)\n",
    "\n",
    "        fig.append_trace(go.Scatter(\n",
    "            x=Q_dhydro.loc[:,locatie].index,\n",
    "            y=Q_dhydro.loc[:,locatie].values,\n",
    "            name = 'Debiet',\n",
    "            legendgroup = '3'\n",
    "        ), row=3, col=1)\n",
    "\n",
    "        fig.update_traces(mode=\"lines\", hovertemplate=None)\n",
    "        fig.update_layout(\n",
    "            height=800, \n",
    "            width=1000, \n",
    "            title_text='Stuw '+locatie, \n",
    "            xaxis3_title = 'Datum',\n",
    "            yaxis1_title = 'Waterstand [m NAP]',\n",
    "            yaxis2_title = 'Kruinhoogte [m NAP]',\n",
    "            yaxis3_title = 'Debiet [m3/s]',\n",
    "            legend_tracegroupgap = 180,\n",
    "            hovermode=\"x unified\",\n",
    "        #     yaxis1_range=[50, 90],\n",
    "            yaxis2_range=[kruin_dhydro.loc[:,locatie].values.min()-1, kruin_dhydro.loc[:,locatie].values.max()+1], #schaal aangepast omdat verschillen vaak klein zijn\n",
    "        #     yaxis3_range=[50, 90]\n",
    "        )\n",
    "        fig.update_traces(xaxis='x1')\n",
    "        \n",
    "         #resultaten wegschrijven\n",
    "        if opslaan==True:\n",
    "            pio.write_image(fig,'../02_Validatie/Hertogswetering/Stuwen/svg/stuw_'+ locatie +'.svg', engine='orca')\n",
    "            fig.write_html('../02_Validatie/Hertogswetering/Stuwen/html/stuw_'+ locatie +'.html', include_plotlyjs=\"cdn\", full_html=False)\n",
    "        fig.show()"
   ]
  },
  {
   "cell_type": "code",
   "execution_count": null,
   "metadata": {},
   "outputs": [],
   "source": []
  }
 ],
 "metadata": {
  "kernelspec": {
   "display_name": "Python 3 (ipykernel)",
   "language": "python",
   "name": "python3"
  },
  "language_info": {
   "codemirror_mode": {
    "name": "ipython",
    "version": 3
   },
   "file_extension": ".py",
   "mimetype": "text/x-python",
   "name": "python",
   "nbconvert_exporter": "python",
   "pygments_lexer": "ipython3",
   "version": "3.9.12"
  }
 },
 "nbformat": 4,
 "nbformat_minor": 4
}
