{
 "cells": [
  {
   "cell_type": "code",
   "execution_count": null,
   "id": "63a3326f",
   "metadata": {},
   "outputs": [],
   "source": [
    "import pandas as pd\n",
    "import os\n",
    "import numpy as np\n",
    "import numpy.ma as ma\n",
    "import matplotlib\n",
    "matplotlib.use('Agg')\n",
    "import matplotlib.pyplot as plt\n",
    "import hkvsobekpy as hkv\n",
    "import sys\n",
    "import netCDF4\n",
    "import shutil\n",
    "import subprocess\n",
    "import fiona\n",
    "import geopandas as gpd\n",
    "import re\n",
    "import math\n",
    "import sys\n",
    "#sys.path.insert(0, r'D:/Users/horn/Documents/3640.20/DamVanBrakel_vergelijking/Models')\n",
    "#import resultreaderSubGrid as resultreader\n",
    "import rasterio\n",
    "import rioxarray\n",
    "import xarray\n",
    "#import gdal\n",
    "\n",
    "from scipy import spatial\n",
    "from shapely.ops import nearest_points\n",
    "from scipy.spatial import cKDTree\n",
    "from matplotlib import dates\n",
    "from shutil import copyfile\n",
    "from datetime import datetime as dt\n",
    "from datetime import timedelta as td\n",
    "from netCDF4 import Dataset\n",
    "from netCDF4 import stringtochar\n",
    "from netCDF4 import chartostring\n",
    "from rasterio.transform import from_origin\n",
    "#from pandas.plotting import register_matplotlib_converters\n",
    "#register_matplotlib_converters()\n",
    "\n",
    "%matplotlib inline"
   ]
  },
  {
   "cell_type": "code",
   "execution_count": null,
   "id": "d7fa1ac3",
   "metadata": {},
   "outputs": [],
   "source": [
    "names = pd.DataFrame({'NaamHis':['QLAT.HIS','QLAT.OVERSTORT'],\n",
    "     'NaamVarHis':['Lateral disch.(m3/s)','Defined Lateral Disc']}).set_index('NaamHis')\n",
    "\n",
    "NaamHis='QLAT.HIS' #Naam van HIS bestand\n",
    "#NaamVarHis='Lateral disch.(m3/s)' #Variabele naam in HIS bestand\n",
    "NaamLateralsBC='FlowFM_lateral_sources.bc' #Naam voor BS bestand\n",
    "directoryHis=\"../00_Data/sobekdata/SOBEK.lit/1/\" #Locatie  his bestanden\n",
    "directoryBC=\"../00_Data/sobekdata/Lateral_sources/\" #Locatie  voor te maken bc bestand\n",
    "starttijd = '2010-11-09 00:00:00'  #Starttijd voor in laterals.bc bestand\n",
    "#dagen=13 #Aantal dagen voor tijdreeks in laterals.bc, let op dit zorgt voor een tijdreeks met de juiste lengte. Belangrijk dat dit overeenkomt met Sobekresultaat\n",
    "tijdstapLaterals=60 #Tijdstap in seconden, moet zelfde zijn als in Sobek"
   ]
  },
  {
   "cell_type": "code",
   "execution_count": null,
   "id": "0ac524f4",
   "metadata": {},
   "outputs": [],
   "source": [
    "naam_output=directoryBC+'/'+NaamLateralsBC\n",
    "his_file = directoryHis+'/'+NaamHis\n",
    "laterals = hkv.read_his.ReadMetadata(his_file)\n",
    "sobek = laterals.DataFrame()\n",
    "sobek_2 = pd.read_csv(r'D:\\werkplan 2023\\kennisagenda\\23K01_dhydromodellering\\01-importeer-neerslag-afvoer-uit-modellen\\00_Data\\output_afvoeren\\timeseries\\combinedoutput.csv', sep = ';', header=[0,1], index_col=0)\n",
    "sobek=sobek_2"
   ]
  },
  {
   "cell_type": "code",
   "execution_count": null,
   "id": "35ce8381",
   "metadata": {},
   "outputs": [],
   "source": [
    "names"
   ]
  },
  {
   "cell_type": "code",
   "execution_count": null,
   "id": "615f575a",
   "metadata": {
    "scrolled": true
   },
   "outputs": [],
   "source": [
    "header =\"\"\"[General]\n",
    "    fileVersion           = 1.01                \n",
    "    fileType              = boundConds\n",
    "\n",
    "\"\"\"\n",
    "\n",
    "with open(naam_output, \"w+\") as f:\n",
    "    f.write(header)\n",
    "    f.close()\n",
    "\n",
    "for i in names.index:\n",
    "    NaamVarHis = names.loc[i,'NaamVarHis']\n",
    "\n",
    "    sobek_Lat_def=sobek[NaamVarHis]\n",
    "    afvoerreeks = sobek_Lat_def\n",
    "    afvoerreeks.set_index(np.arange(0,len(afvoerreeks.index)*60,60), inplace=False)\n",
    "    index = ((pd.to_datetime(afvoerreeks.index)- pd.to_datetime('2010-11-09 00:00:00', format='%Y-%m-%d'))/pd.Timedelta(minutes=1)).astype(int)\n",
    "    afvoerreeks.set_index(index, inplace=True)\n",
    "    afvoerreeks.dropna(axis=1,inplace=True,how='all')\n",
    "    print(afvoerreeks)\n",
    "    lateralen=[]\n",
    "    for i in afvoerreeks.columns[0::]:\n",
    "        naam = i\n",
    "        tijdreeks = afvoerreeks.loc[:,i]\n",
    "        template=\"\"\"\n",
    "    [forcing]\n",
    "        name                  = {}           \n",
    "        function              = timeseries          \n",
    "        timeInterpolation     = linear              \n",
    "        quantity              = time                \n",
    "        unit                  = minutes since {}\n",
    "        quantity              = lateral_discharge   \n",
    "        unit                  = m\\u00b3/s              \n",
    "    {}\n",
    "    \"\"\".format(naam,starttijd,tijdreeks.to_string())\n",
    "        \n",
    "        with open(naam_output, \"a+\") as f:\n",
    "            f.write(template)\n",
    "            f.close  "
   ]
  },
  {
   "cell_type": "code",
   "execution_count": null,
   "id": "8816e692",
   "metadata": {},
   "outputs": [],
   "source": [
    "afvoerreeks.index[0] - pd.to_datetime('2010-11-09 00:00:00', format='%Y-%m-%d')"
   ]
  },
  {
   "cell_type": "code",
   "execution_count": null,
   "id": "2665caea",
   "metadata": {},
   "outputs": [],
   "source": [
    "pd.to_datetime('2010-11-09 00:00:00', format='%Y-%m-%d')"
   ]
  },
  {
   "cell_type": "code",
   "execution_count": null,
   "id": "44e9d6ee",
   "metadata": {},
   "outputs": [],
   "source": [
    "a = ((pd.to_datetime(afvoerreeks.index)- pd.to_datetime('2010-11-09 00:00:00', format='%Y-%m-%d'))/pd.Timedelta(minutes=1)).astype(int)\n",
    "a"
   ]
  }
 ],
 "metadata": {
  "kernelspec": {
   "display_name": "Python 3 (ipykernel)",
   "language": "python",
   "name": "python3"
  },
  "language_info": {
   "codemirror_mode": {
    "name": "ipython",
    "version": 3
   },
   "file_extension": ".py",
   "mimetype": "text/x-python",
   "name": "python",
   "nbconvert_exporter": "python",
   "pygments_lexer": "ipython3",
   "version": "3.9.13"
  }
 },
 "nbformat": 4,
 "nbformat_minor": 5
}
